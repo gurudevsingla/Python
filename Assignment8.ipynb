{
 "cells": [
  {
   "cell_type": "code",
   "execution_count": 26,
   "id": "7b33f9a5",
   "metadata": {},
   "outputs": [
    {
     "name": "stdout",
     "output_type": "stream",
     "text": [
      "Enter your password :  jklKJL8*&()\n",
      "\n",
      "Valid Password\n"
     ]
    }
   ],
   "source": [
    "#Que 1 :\n",
    "\"\"\"You are writing code for a company. The requirement of the company is that you create a python \n",
    "function that will check whether the password entered by the user is correct or not. The function should \n",
    "take the password as input and return the string “Valid Password” if the entered password follows the \n",
    "below-given password guidelines else it should return “Invalid Password.\"\"\"\n",
    "def check_password(s):\n",
    "    countup=0\n",
    "    countlow=0\n",
    "    countspecial=0\n",
    "    countnum=0\n",
    "    if len(s)>=10:  \n",
    "        for i in s:\n",
    "                if 65<=ord(i)<=90:\n",
    "                    countup+=1\n",
    "                elif 97<=ord(i)<=122:\n",
    "                    countlow+=1\n",
    "                elif 48<=ord(i)<=57:\n",
    "                    countnum+=1\n",
    "                elif i!=\" \":\n",
    "                    countspecial+=1\n",
    "    else: \n",
    "        print(\"Invalid Password\")\n",
    "        return\n",
    "    if(countup>=2 and countlow>=2 and countspecial>=3 and countnum>=1):\n",
    "        print(\"Valid Password \")\n",
    "    else:\n",
    "        print(\"Invalid Password\")\n",
    "#or\n",
    "def check_password1():\n",
    "    n=input(\"Enter your password :  \")\n",
    "    lowercase=0\n",
    "    uppercase=0\n",
    "    numbers=0 \n",
    "    special_character=0\n",
    "    for i in n:\n",
    "        if i.islower()==True:\n",
    "            lowercase+=1\n",
    "        elif i.isupper()==True:\n",
    "            uppercase+=1\n",
    "        elif i.isdigit()==True:\n",
    "            numbers+=1\n",
    "        elif i.isalpha()==False and i.isdigit()==False:\n",
    "            special_character+=1\n",
    "  \n",
    "    if lowercase>=2 and uppercase>=2 and numbers>=1 and special_character>=3 and len(n)>=10:\n",
    "        print(\"\\nValid Password\")\n",
    "    else:\n",
    "        print(\"\\nInvalid Password\")\n",
    "        \n",
    "        \n",
    "check_password1()"
   ]
  },
  {
   "cell_type": "code",
   "execution_count": 2,
   "id": "ad7bfcd3",
   "metadata": {},
   "outputs": [
    {
     "name": "stdout",
     "output_type": "stream",
     "text": [
      "Valid Password \n"
     ]
    }
   ],
   "source": [
    "check_password(\"jklKJL8*&()\")"
   ]
  },
  {
   "cell_type": "code",
   "execution_count": 10,
   "id": "c58d6434",
   "metadata": {},
   "outputs": [
    {
     "data": {
      "text/plain": [
       "'Solve the below-given questions using at least one of the following:\\xa0\\n1. Lambda function\\n2. Filter function\\n3. Map function\\n4. List Comprehension\\n->Check if the string starts with a particular letter.\\n->Check if the string is numeric.\\n->Sort a list of tuples having fruit names and their quantity. [(\"mango\",99),(\"orange\",80), (\"grapes\", 1000)?\\n->Find the squares of numbers from 1 to 10.\\n->Find the cube root of numbers from 1 to 10.\\n->Check if a given number is even.\\n->Filter odd numbers from the given list.\\n [1,2,3,4,5,6,7,8,9,10]\\n->Sort a list of integers into positive and negative integers lists.\\n[1,2,3,4,5,6,-1,-2,-3,-4,-5,0]'"
      ]
     },
     "execution_count": 10,
     "metadata": {},
     "output_type": "execute_result"
    }
   ],
   "source": [
    "#Que 2 :\n",
    "\"\"\"Solve the below-given questions using at least one of the following: \n",
    "1. Lambda function\n",
    "2. Filter function\n",
    "3. Map function\n",
    "4. List Comprehension\n",
    "->Check if the string starts with a particular letter.\n",
    "->Check if the string is numeric.\n",
    "->Sort a list of tuples having fruit names and their quantity. [(\"mango\",99),(\"orange\",80), (\"grapes\", 1000)?\n",
    "->Find the squares of numbers from 1 to 10.\n",
    "->Find the cube root of numbers from 1 to 10.\n",
    "->Check if a given number is even.\n",
    "->Filter odd numbers from the given list.\n",
    " [1,2,3,4,5,6,7,8,9,10]\n",
    "->Sort a list of integers into positive and negative integers lists.\n",
    "[1,2,3,4,5,6,-1,-2,-3,-4,-5,0]\"\"\"\n"
   ]
  },
  {
   "cell_type": "code",
   "execution_count": 3,
   "id": "002555d5",
   "metadata": {},
   "outputs": [
    {
     "name": "stdout",
     "output_type": "stream",
     "text": [
      "True\n",
      "True\n",
      "False\n"
     ]
    }
   ],
   "source": [
    "# Check if the string starts with a particular letter\n",
    "\n",
    "n=lambda s : s[0]==\"a\" \n",
    "print(n('anaconda'))\n",
    "\n",
    "#or\n",
    "\n",
    "s = \"PWSkills Data Science Master Course\"\n",
    "s1 = \"Data Science Master Course\"\n",
    "\n",
    "a = lambda x: True if x.startswith('PWSkills') else False\n",
    "\n",
    "print(a(s))\n",
    "print(a(s1))"
   ]
  },
  {
   "cell_type": "code",
   "execution_count": 15,
   "id": "f423eb43",
   "metadata": {},
   "outputs": [
    {
     "name": "stdout",
     "output_type": "stream",
     "text": [
      "Enter the no. -65\n",
      "Numeric\n"
     ]
    }
   ],
   "source": [
    "# Check if the string is numeric\n",
    "\n",
    "# Using lambda function\n",
    "num = input(\"Enter the no. \")\n",
    "num1 = lambda : \"Numeric\" if num.lstrip(\"-\").isdigit() == True else \"Not Numeric\"\n",
    "print(num1())"
   ]
  },
  {
   "cell_type": "code",
   "execution_count": 17,
   "id": "58d6ba1b",
   "metadata": {},
   "outputs": [
    {
     "data": {
      "text/plain": [
       "[('orange', 80), ('mango', 99), ('grapes', 1000)]"
      ]
     },
     "execution_count": 17,
     "metadata": {},
     "output_type": "execute_result"
    }
   ],
   "source": [
    "# Sort a list of tuples having fruit names and their quantity. [(\"mango\",99),(\"orange\",80), (\"grapes\", 1000)]\n",
    "\n",
    "l = [(\"mango\",99),(\"orange\",80), (\"grapes\", 1000)]\n",
    "l.sort(key = lambda x: x[1])\n",
    "l"
   ]
  },
  {
   "cell_type": "code",
   "execution_count": 35,
   "id": "b0d8c791",
   "metadata": {},
   "outputs": [
    {
     "data": {
      "text/plain": [
       "[1, 4, 9, 16, 25, 36, 49, 64, 81, 100]"
      ]
     },
     "execution_count": 35,
     "metadata": {},
     "output_type": "execute_result"
    }
   ],
   "source": [
    "# Find the squares of numbers from 1 to 10\n",
    "\n",
    "l=list(range(1,11))\n",
    "lst=list(map(lambda x:x**2,l))\n",
    "lst"
   ]
  },
  {
   "cell_type": "code",
   "execution_count": 19,
   "id": "73050b1b",
   "metadata": {},
   "outputs": [
    {
     "name": "stdout",
     "output_type": "stream",
     "text": [
      "[1, 8, 27, 64, 125, 216, 343, 512, 729, 1000]\n"
     ]
    }
   ],
   "source": [
    "# Find the cube root of numbers from 1 to 10\n",
    "\n",
    "l=list(range(1,11))\n",
    "cube = [i**3 for i in l]\n",
    "print(cube)"
   ]
  },
  {
   "cell_type": "code",
   "execution_count": 47,
   "id": "4a3cd058",
   "metadata": {},
   "outputs": [
    {
     "data": {
      "text/plain": [
       "True"
      ]
     },
     "execution_count": 47,
     "metadata": {},
     "output_type": "execute_result"
    }
   ],
   "source": [
    "# Check if a given number is even\n",
    "\n",
    "even = lambda x: True if x%2==0 else False\n",
    "even(4)"
   ]
  },
  {
   "cell_type": "code",
   "execution_count": 54,
   "id": "3f7e6856",
   "metadata": {},
   "outputs": [
    {
     "data": {
      "text/plain": [
       "[1, 3, 5, 7, 9]"
      ]
     },
     "execution_count": 54,
     "metadata": {},
     "output_type": "execute_result"
    }
   ],
   "source": [
    "# Filter odd numbers from the given list. [1,2,3,4,5,6,7,8,9,10]\n",
    "\n",
    "l=[1,2,3,4,5,6,7,8,9,10]\n",
    "lst=list(filter(lambda x: x%2!=0,l))\n",
    "lst"
   ]
  },
  {
   "cell_type": "code",
   "execution_count": 23,
   "id": "757facc1",
   "metadata": {},
   "outputs": [
    {
     "data": {
      "text/plain": [
       "[-5, -4, -3, -2, -1, 1, 2, 3, 4, 5, 6]"
      ]
     },
     "execution_count": 23,
     "metadata": {},
     "output_type": "execute_result"
    }
   ],
   "source": [
    "# Sort a list of integers into positive and negative integers lists. [1,2,3,4,5,6,-1,-2,-3,-4,-5,0]\n",
    "\n",
    "l = [1,2,3,4,5,6,-1,-2,-3,-4,-5,0]\n",
    "list(filter(l.sort(),l))"
   ]
  },
  {
   "cell_type": "code",
   "execution_count": null,
   "id": "de697fc8",
   "metadata": {},
   "outputs": [],
   "source": []
  }
 ],
 "metadata": {
  "kernelspec": {
   "display_name": "Python 3 (ipykernel)",
   "language": "python",
   "name": "python3"
  },
  "language_info": {
   "codemirror_mode": {
    "name": "ipython",
    "version": 3
   },
   "file_extension": ".py",
   "mimetype": "text/x-python",
   "name": "python",
   "nbconvert_exporter": "python",
   "pygments_lexer": "ipython3",
   "version": "3.9.13"
  }
 },
 "nbformat": 4,
 "nbformat_minor": 5
}
