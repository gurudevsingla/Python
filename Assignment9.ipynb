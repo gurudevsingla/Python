{
 "cells": [
  {
   "cell_type": "code",
   "execution_count": 18,
   "id": "6d4150a6",
   "metadata": {},
   "outputs": [
    {
     "name": "stdout",
     "output_type": "stream",
     "text": [
      "This will return a student's details for data science masters\n",
      "This is a Method for taking students details\n",
      "jail\n"
     ]
    }
   ],
   "source": [
    "#Que 1:\n",
    "\"\"\"What is Abstraction in OOps? Explain with an example.\"\"\"\n",
    "import abc\n",
    "class pwskills:\n",
    "    \n",
    "    @abc.abstractmethod\n",
    "    def students_details(self):\n",
    "        pass\n",
    "    \n",
    "    @abc.abstractmethod\n",
    "    def students_assignment(self):\n",
    "        pass\n",
    "    \n",
    "    @abc.abstractmethod\n",
    "    def students_marks(self):\n",
    "        pass\n",
    "    \n",
    "class students_details(pwskills):\n",
    "    \n",
    "    def students_details(self):\n",
    "        return \"This is a Method for taking students details\"\n",
    "    def students_assignment(self):\n",
    "        return \"This is a Method for taking assignment details\"\n",
    "    \n",
    "class data_science_masters(pwskills):\n",
    "    \n",
    "    def students_details(self):\n",
    "        return \"This will return a student's details for data science masters\"\n",
    "    \n",
    "    def students_assignment(self):\n",
    "        return \"This will give you student's assignment details for data science masters\"\n",
    "obj_data_science = data_science_masters()\n",
    "print(obj_data_science.students_details())\n",
    "obj_students_details = students_details()\n",
    "print(obj_students_details.students_details())"
   ]
  },
  {
   "cell_type": "code",
   "execution_count": 15,
   "id": "a4a95362",
   "metadata": {},
   "outputs": [
    {
     "data": {
      "text/plain": [
       "'Abstraction\\nAbstraction solves the problem and issues that arise at the design stage.\\nAbstraction allows you to focus on what the object does instead of how it does it.\\nYou can use abstraction using Interface and Abstract Class.\\nExample :- So let we will consider the motorcycle. A mechanic is attempting to repair your motorcycle or,\\nsay, a certain section of your motorcycle. You are the user, and you don’t want to know your motorcycle specifics or\\nwhat portion has actually broken. You don’t care; you simply want your moto cycle in its original condition without worrying about the details.\\nYou told the mechanic what you wanted by separating the implementing part; this is called abstraction.\\nThe most important thing you did was fix your motorcycle instead of focusing on the particulars.\\n\\nEncapsulation\\nEncapsulation solves the problem and issue that arise at the implementation stage.\\nEncapsulation enables you to hide the code and data into a single unit to secure the data from the outside world.\\nYou can implement encapsulation using Access Modifiers (Public, Protected & Private.)\\nExample :- Only you need to know the device’s behaviour without having to worry about implementing details like what sensors the Keyboard has and\\nwhether it is wireless or not etc. Every detail describes the mouse, but it is simply a keyboard, irrespective of the detail.\\nYou just have a keyboard interface, which is the mouse pointer in this situation, and this we called Encapsulation.'"
      ]
     },
     "execution_count": 15,
     "metadata": {},
     "output_type": "execute_result"
    }
   ],
   "source": [
    "#Que 2:\n",
    "\"\"\"Differentiate between Abstraction and Encapsulation. Explain with an example.\"\"\"\n",
    "\"\"\"Abstraction\n",
    "Abstraction solves the problem and issues that arise at the design stage.\n",
    "Abstraction allows you to focus on what the object does instead of how it does it.\n",
    "You can use abstraction using Interface and Abstract Class.\n",
    "Example :- So let we will consider the motorcycle. A mechanic is attempting to repair your motorcycle or,\n",
    "say, a certain section of your motorcycle. You are the user, and you don’t want to know your motorcycle specifics or\n",
    "what portion has actually broken. You don’t care; you simply want your moto cycle in its original condition without worrying about the details.\n",
    "You told the mechanic what you wanted by separating the implementing part; this is called abstraction.\n",
    "The most important thing you did was fix your motorcycle instead of focusing on the particulars.\n",
    "\n",
    "Encapsulation\n",
    "Encapsulation solves the problem and issue that arise at the implementation stage.\n",
    "Encapsulation enables you to hide the code and data into a single unit to secure the data from the outside world.\n",
    "You can implement encapsulation using Access Modifiers (Public, Protected & Private.)\n",
    "Example :- Only you need to know the device’s behaviour without having to worry about implementing details like what sensors the Keyboard has and\n",
    "whether it is wireless or not etc. Every detail describes the mouse, but it is simply a keyboard, irrespective of the detail.\n",
    "You just have a keyboard interface, which is the mouse pointer in this situation, and this we called Encapsulation.\"\"\""
   ]
  },
  {
   "cell_type": "code",
   "execution_count": 16,
   "id": "dd072072",
   "metadata": {},
   "outputs": [
    {
     "data": {
      "text/plain": [
       "'\"abc\" stands for Abstract Base Class.\\nThe ‘abc’ module in the Python library provides the infrastructure for defining custom abstract base classes.\\nAbstract class cannot be instantiated in python. An Abstract method can be call by its subclasses.'"
      ]
     },
     "execution_count": 16,
     "metadata": {},
     "output_type": "execute_result"
    }
   ],
   "source": [
    "#Que 3:\n",
    "\"\"\"What is abc module in python? Why is it used?\"\"\"\n",
    "\n",
    "\"\"\"\"abc\" stands for Abstract Base Class.\n",
    "The ‘abc’ module in the Python library provides the infrastructure for defining custom abstract base classes.\n",
    "Abstract class cannot be instantiated in python. An Abstract method can be call by its subclasses.\"\"\""
   ]
  },
  {
   "cell_type": "code",
   "execution_count": 19,
   "id": "43ce154c",
   "metadata": {},
   "outputs": [
    {
     "data": {
      "text/plain": [
       "'Data abstraction is a method where essential elements are displayed to the user and trivial elements are kept hidden.\\nIn Python, abstraction can be achieved by having/using abstract classes and methods in our programs. \\nUnderstanding Abstract Methods and Classes: An abstract method is a method that is declared, but does not contain implementation.'"
      ]
     },
     "execution_count": 19,
     "metadata": {},
     "output_type": "execute_result"
    }
   ],
   "source": [
    "#Que 4:\n",
    "\"\"\"How can we achieve data abstraction?\"\"\"\n",
    "\n",
    "\"\"\"Data abstraction is a method where essential elements are displayed to the user and trivial elements are kept hidden.\n",
    "In Python, abstraction can be achieved by having/using abstract classes and methods in our programs. \n",
    "Understanding Abstract Methods and Classes: An abstract method is a method that is declared, but does not contain implementation.\"\"\""
   ]
  },
  {
   "cell_type": "code",
   "execution_count": 21,
   "id": "b38bf501",
   "metadata": {},
   "outputs": [
    {
     "data": {
      "text/plain": [
       "'Abstract classes cannot be instantiated, but they can be subclassed.\\nWhen an abstract class is subclassed, the subclass usually provides implementations for all of the abstract methods in its parent class. \\nHowever, if it does not, then the subclass must also be declared abstract .'"
      ]
     },
     "execution_count": 21,
     "metadata": {},
     "output_type": "execute_result"
    }
   ],
   "source": [
    "#Que 5:\n",
    "\"\"\"Can we create an instance of an abstract class? Explain your answer.\"\"\"\n",
    "\n",
    "\"\"\"Abstract classes cannot be instantiated, but they can be subclassed.\n",
    "When an abstract class is subclassed, the subclass usually provides implementations for all of the abstract methods in its parent class. \n",
    "However, if it does not, then the subclass must also be declared abstract .\"\"\""
   ]
  },
  {
   "cell_type": "code",
   "execution_count": null,
   "id": "9fed21df",
   "metadata": {},
   "outputs": [],
   "source": []
  }
 ],
 "metadata": {
  "kernelspec": {
   "display_name": "Python 3 (ipykernel)",
   "language": "python",
   "name": "python3"
  },
  "language_info": {
   "codemirror_mode": {
    "name": "ipython",
    "version": 3
   },
   "file_extension": ".py",
   "mimetype": "text/x-python",
   "name": "python",
   "nbconvert_exporter": "python",
   "pygments_lexer": "ipython3",
   "version": "3.9.13"
  }
 },
 "nbformat": 4,
 "nbformat_minor": 5
}
