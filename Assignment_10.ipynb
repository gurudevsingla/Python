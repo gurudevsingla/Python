{
 "cells": [
  {
   "cell_type": "code",
   "execution_count": 1,
   "id": "42981a41",
   "metadata": {},
   "outputs": [],
   "source": [
    "#Que 1:\n",
    "\"\"\"Create a vehicle class with an init method having instance variables as name_of_vehicle, \n",
    "max_speed and average_of_vehicle.\"\"\"\n",
    "\n",
    "class Vehicle:\n",
    "    def __init__(self,name_of_vehicle,max_speed,average_of_vehicle):\n",
    "        self.name_of_vehicle=name_of_vehicle\n",
    "        self.max_speed=max_speed\n",
    "        self.average_of_vehicle=average_of_vehicle"
   ]
  },
  {
   "cell_type": "code",
   "execution_count": 5,
   "id": "2b14c7cd",
   "metadata": {},
   "outputs": [
    {
     "data": {
      "text/plain": [
       "('Honda', 5)"
      ]
     },
     "execution_count": 5,
     "metadata": {},
     "output_type": "execute_result"
    }
   ],
   "source": [
    "#Que 2:\n",
    "\"\"\"Create a child class car from the vehicle class created in Que 1, which will inherit the vehicle class. \n",
    "Create a method named seating_capacity which takes capacity as an argument and returns the name of \n",
    "the vehicle and its seating capacity.\"\"\"\n",
    "\n",
    "class Vehicle:\n",
    "    def __init__(self,name_of_vehicle,max_speed,average_of_vehicle):\n",
    "        self.name_of_vehicle=name_of_vehicle\n",
    "        self.max_speed=max_speed\n",
    "        self.average_of_vehicle=average_of_vehicle\n",
    "class Car(Vehicle):\n",
    "    def seating_capacity(self,capacity):\n",
    "        return self.name_of_vehicle,capacity\n",
    "obj=Car(\"Honda\",120,20)\n",
    "obj.seating_capacity(5)"
   ]
  },
  {
   "cell_type": "code",
   "execution_count": 10,
   "id": "7a34c4f1",
   "metadata": {},
   "outputs": [
    {
     "name": "stdout",
     "output_type": "stream",
     "text": [
      "This is my first class.\n",
      "This is my second class.\n"
     ]
    },
    {
     "data": {
      "text/plain": [
       "'When a class is derived from more than one base class it is called multiple Inheritance. \\nThe derived class inherits all the features of the base case.'"
      ]
     },
     "execution_count": 10,
     "metadata": {},
     "output_type": "execute_result"
    }
   ],
   "source": [
    "#Que 3:\n",
    "\"\"\"What is multiple inheritance? Write a python code to demonstrate multiple inheritance.\"\"\"\n",
    "\n",
    "class class1:\n",
    "    def nw_class(self):\n",
    "        return \"This is my first class.\"\n",
    "    \n",
    "class class2:\n",
    "    def nw_class1(self):\n",
    "        return \"This is my second class.\"\n",
    "    \n",
    "class class3(class1,class2):\n",
    "    pass\n",
    "class3_obj = class3()\n",
    "print(class3_obj.nw_class())\n",
    "print(class3_obj.nw_class1())\n",
    "\"\"\"When a class is derived from more than one base class it is called multiple Inheritance. \n",
    "The derived class inherits all the features of the base case.\"\"\""
   ]
  },
  {
   "cell_type": "code",
   "execution_count": 14,
   "id": "f217b5f6",
   "metadata": {},
   "outputs": [
    {
     "name": "stdout",
     "output_type": "stream",
     "text": [
      "2001\n",
      "2019\n"
     ]
    },
    {
     "data": {
      "text/plain": [
       "\"Getters are the methods that are used in Object-Oriented Programming (OOPS) to access a class's private attributes.\\nThe setter is a method that is used to set the property's value. It is very useful in object-oriented programming to set the value of private attributes in a class.\\nThe main purpose of using getters and setters in object-oriented programs is to ensure data encapsulation.\""
      ]
     },
     "execution_count": 14,
     "metadata": {},
     "output_type": "execute_result"
    }
   ],
   "source": [
    "#Que 4:\n",
    "\"\"\"What are getter and setter in python? Create a class and create a getter and a setter method in this class.\"\"\"\n",
    "\n",
    "class graduated_year:\n",
    "    def __init__(self, year):\n",
    "        self.__year = year\n",
    "        \n",
    "    def get_year(self):\n",
    "        return self.__year\n",
    "    \n",
    "    def set_year(self, a):\n",
    "        self.__year = a\n",
    "    \n",
    "grad_obj = graduated_year(2001)\n",
    "print(grad_obj.get_year())\n",
    "\n",
    "grad_obj.set_year(2019)\n",
    "print(grad_obj.get_year())\n",
    "\n",
    "\"\"\"Getters are the methods that are used in Object-Oriented Programming (OOPS) to access a class's private attributes.\n",
    "The setter is a method that is used to set the property's value. It is very useful in object-oriented programming to set the value of private attributes in a class.\n",
    "The main purpose of using getters and setters in object-oriented programs is to ensure data encapsulation.\"\"\""
   ]
  },
  {
   "cell_type": "code",
   "execution_count": 26,
   "id": "d9cf9ca1",
   "metadata": {},
   "outputs": [
    {
     "name": "stdout",
     "output_type": "stream",
     "text": [
      "Inside Parent\n",
      "5\n"
     ]
    },
    {
     "data": {
      "text/plain": [
       "'Method overriding is an ability of any object-oriented programming language that allows a subclass or child class to provide a specific implementation of a method that is already provided by one of its super-classes or parent classes.\\nWhen a method in a subclass has the same name, same parameters or signature and same return type(or sub-type) as a method in its super-class, then the method in the subclass is said to override the method in the super-class.'"
      ]
     },
     "execution_count": 26,
     "metadata": {},
     "output_type": "execute_result"
    }
   ],
   "source": [
    "#Que 5:\n",
    "\"\"\"What is method overriding in python? Write a python code to demonstrate method overriding.\"\"\"\n",
    "class Parent():\n",
    "      \n",
    "    def __init__(self):\n",
    "        self.value = \"Inside Parent\"\n",
    "          \n",
    "    def show(self):\n",
    "        print(self.value)\n",
    "          \n",
    "class Child(Parent):\n",
    "      \n",
    "    def __init__(self):\n",
    "        self.valuec = 5\n",
    "          \n",
    "    def show(self):\n",
    "        print(self.valuec)      \n",
    "\n",
    "obj1 = Parent()\n",
    "obj2 = Child()\n",
    "  \n",
    "obj1.show()\n",
    "obj2.show()\n",
    "\"\"\"Method overriding is an ability of any object-oriented programming language that allows a subclass or child class to provide a specific implementation of a method that is already provided by one of its super-classes or parent classes.\n",
    "When a method in a subclass has the same name, same parameters or signature and same return type(or sub-type) as a method in its super-class, then the method in the subclass is said to override the method in the super-class.\"\"\""
   ]
  },
  {
   "cell_type": "code",
   "execution_count": null,
   "id": "d5f04eb5",
   "metadata": {},
   "outputs": [],
   "source": []
  }
 ],
 "metadata": {
  "kernelspec": {
   "display_name": "Python 3 (ipykernel)",
   "language": "python",
   "name": "python3"
  },
  "language_info": {
   "codemirror_mode": {
    "name": "ipython",
    "version": 3
   },
   "file_extension": ".py",
   "mimetype": "text/x-python",
   "name": "python",
   "nbconvert_exporter": "python",
   "pygments_lexer": "ipython3",
   "version": "3.9.13"
  }
 },
 "nbformat": 4,
 "nbformat_minor": 5
}
