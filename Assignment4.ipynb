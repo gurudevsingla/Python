{
 "cells": [
  {
   "cell_type": "code",
   "execution_count": 9,
   "id": "e6c71a54",
   "metadata": {},
   "outputs": [
    {
     "data": {
      "text/plain": [
       "[1, 3, 5, 7, 9, 11, 13, 15, 17, 19, 21, 23, 25]"
      ]
     },
     "execution_count": 9,
     "metadata": {},
     "output_type": "execute_result"
    }
   ],
   "source": [
    "#Que 1:\n",
    "\"\"\"Which keyword is used to create a function? Create a function to return a list of odd numbers in the \n",
    "range of 1 to 25.\"\"\"\n",
    "def oddno():\n",
    "    l=list(range(1,26,2))\n",
    "    return l\n",
    "oddno()\n",
    "#def keyword is used for creating a function"
   ]
  },
  {
   "cell_type": "code",
   "execution_count": 10,
   "id": "963953ca",
   "metadata": {},
   "outputs": [
    {
     "name": "stdout",
     "output_type": "stream",
     "text": [
      "('argument1', 'arg2', 34)\n",
      "{'a': 1, 'b': 'arg2'}\n"
     ]
    }
   ],
   "source": [
    "#Que 2:\n",
    "\"\"\"Why *args and **kwargs is used in some functions? Create a function each for *args and **kwargs \n",
    "to demonstrate their use.\"\"\"\n",
    "def arguements(*args):\n",
    "    return args\n",
    "def keywordarguements(**kwargs):\n",
    "    return kwargs\n",
    "print(arguements(\"argument1\",\"arg2\",34))\n",
    "print(keywordarguements(a=1,b=\"arg2\"))\n",
    "#arguement is basically used when we need to take multiple input from user it will return tuple of all element\n",
    "#keyword args are bassically used when we need to take multiple input in form of key and value it will return dictionary of all items"
   ]
  },
  {
   "cell_type": "code",
   "execution_count": 15,
   "id": "3de6edec",
   "metadata": {},
   "outputs": [
    {
     "name": "stdout",
     "output_type": "stream",
     "text": [
      "2\n",
      "4\n",
      "6\n",
      "8\n",
      "10\n"
     ]
    },
    {
     "data": {
      "text/plain": [
       "'An iterator is an object that contains a countable number of values.\\nAn iterator is an object that can be iterated upon, meaning that you can traverse through all the values.\\nTechnically, in Python, an iterator is an object which implements the iterator protocol,\\nwhich consist of the methods __iter__() and __next__() '"
      ]
     },
     "execution_count": 15,
     "metadata": {},
     "output_type": "execute_result"
    }
   ],
   "source": [
    "#Que 3:\n",
    "\"\"\"What is an iterator in python? Name the method used to initialise the iterator object and the method \n",
    "used for iteration. Use these methods to print the first five elements of the given list [2, 4, 6, 8, 10, 12, 14, \n",
    "16, 18, 20].\"\"\"\n",
    "l=[2, 4, 6, 8, 10, 12, 14, 16, 18, 20]\n",
    "l=iter(l)\n",
    "for i in range(5):\n",
    "    print(next(l))\n",
    "\"\"\"An iterator is an object that contains a countable number of values.\n",
    "An iterator is an object that can be iterated upon, meaning that you can traverse through all the values.\n",
    "Technically, in Python, an iterator is an object which implements the iterator protocol,\n",
    "which consist of the methods __iter__() and __next__() \"\"\""
   ]
  },
  {
   "cell_type": "code",
   "execution_count": 10,
   "id": "02a59882",
   "metadata": {},
   "outputs": [
    {
     "name": "stdout",
     "output_type": "stream",
     "text": [
      "Enter a no : 5\n",
      "1\n",
      "8\n",
      "27\n",
      "64\n",
      "125\n"
     ]
    },
    {
     "data": {
      "text/plain": [
       "'The yield statement suspends a function’s execution and sends a value back to the caller,\\nbut retains enough state to enable the function to resume where it left off. When the function resumes,\\nit continues execution immediately after the last yield run. This allows its code to produce a series of values over time,\\nrather than computing them at once and sending them back like a list.\\nReturn sends a specified value back to its caller whereas Yield can produce a sequence of values.\\nWe should use yield when we want to iterate over a sequence, but don’t want to store the entire sequence in memory. \\nYield is used in Python generators. A generator function is defined just like a normal function,\\nbut whenever it needs to generate a value, it does so with the yield keyword rather than return. \\nIf the body of a def contains yield, the function automatically becomes a generator function. '"
      ]
     },
     "execution_count": 10,
     "metadata": {},
     "output_type": "execute_result"
    }
   ],
   "source": [
    "#Que 4:\n",
    "\"\"\"What is a generator function in python? Why yield keyword is used? Give an example of a generator \n",
    "function.\"\"\"\n",
    "def generatecube():\n",
    "    i=0\n",
    "    while True:\n",
    "        i+=1\n",
    "        yield i**3\n",
    "num=int(input(\"Enter a no : \"))\n",
    "j=0\n",
    "for i in generatecube():\n",
    "    if j<num:\n",
    "        print(i)\n",
    "        j+=1\n",
    "    else:\n",
    "        break\n",
    "\"\"\"The yield statement suspends a function’s execution and sends a value back to the caller,\n",
    "but retains enough state to enable the function to resume where it left off. When the function resumes,\n",
    "it continues execution immediately after the last yield run. This allows its code to produce a series of values over time,\n",
    "rather than computing them at once and sending them back like a list.\n",
    "Return sends a specified value back to its caller whereas Yield can produce a sequence of values.\n",
    "We should use yield when we want to iterate over a sequence, but don’t want to store the entire sequence in memory. \n",
    "Yield is used in Python generators. A generator function is defined just like a normal function,\n",
    "but whenever it needs to generate a value, it does so with the yield keyword rather than return. \n",
    "If the body of a def contains yield, the function automatically becomes a generator function. \"\"\""
   ]
  },
  {
   "cell_type": "code",
   "execution_count": 28,
   "id": "746999cf",
   "metadata": {},
   "outputs": [
    {
     "name": "stdout",
     "output_type": "stream",
     "text": [
      "2\n",
      "3\n",
      "5\n",
      "7\n",
      "11\n",
      "13\n",
      "17\n",
      "19\n",
      "23\n",
      "29\n",
      "31\n",
      "37\n",
      "41\n",
      "43\n",
      "47\n",
      "53\n",
      "59\n",
      "61\n",
      "67\n",
      "71\n"
     ]
    }
   ],
   "source": [
    "#Que 5:\n",
    "\"\"\"Create a generator function for prime numbers less than 1000. Use the next() method to print the \n",
    "first 20 prime numbers.\"\"\"\n",
    "def prime_num():\n",
    "    l = []\n",
    "    for i in range(2,1000):\n",
    "        for k in l:\n",
    "            if i % k == 0:\n",
    "                break\n",
    "        else:\n",
    "            l.append(i)\n",
    "            yield(i)\n",
    "            \n",
    "num = prime_num()\n",
    "for x in range(20):\n",
    "    print(next(num))"
   ]
  },
  {
   "cell_type": "code",
   "execution_count": 24,
   "id": "4e757bbc",
   "metadata": {},
   "outputs": [
    {
     "name": "stdout",
     "output_type": "stream",
     "text": [
      "Fibonacci Series :\n",
      "1\n",
      "1\n",
      "2\n",
      "3\n",
      "5\n",
      "8\n",
      "13\n",
      "21\n",
      "34\n",
      "55\n"
     ]
    }
   ],
   "source": [
    "#Que 6:\n",
    "\"\"\"Write a python program to print the first 10 Fibonacci numbers using a while loop.\"\"\"\n",
    "i=0\n",
    "a,b=1,1\n",
    "print(\"Fibonacci Series :\")\n",
    "while i<10:\n",
    "    print(a)\n",
    "    a,b=b,a+b\n",
    "    i+=1"
   ]
  },
  {
   "cell_type": "code",
   "execution_count": 27,
   "id": "e8b4bd40",
   "metadata": {},
   "outputs": [
    {
     "data": {
      "text/plain": [
       "['G', 'u', 'r', 'u', 'd', 'e', 'v']"
      ]
     },
     "execution_count": 27,
     "metadata": {},
     "output_type": "execute_result"
    }
   ],
   "source": [
    "#Que 7:\n",
    "\"\"\"Write a List Comprehension to iterate through the given string: ‘Gurudev’.\n",
    "Expected output: ['G', 'u', 'r', 'u', 'd', 'e', 'v'] \"\"\"\n",
    "s=\"Gurudev\"\n",
    "l=[i for i in s]\n",
    "l"
   ]
  },
  {
   "cell_type": "code",
   "execution_count": 2,
   "id": "55adf4eb",
   "metadata": {},
   "outputs": [
    {
     "name": "stdout",
     "output_type": "stream",
     "text": [
      "Enter a string : 256\n",
      "Not a Palindrome\n"
     ]
    }
   ],
   "source": [
    "#Que 8:\n",
    "\"\"\"Write a python program to check whether a given number is Palindrome or not using a while loop.\"\"\"\n",
    "s=str(input(\"Enter a string : \"))\n",
    "s=s.lower()\n",
    "i=0\n",
    "flag=1\n",
    "while i<len(s)/2:\n",
    "    if(s[i]==s[len(s)-i-1]):\n",
    "        i+=1\n",
    "        continue\n",
    "    else:\n",
    "        flag=0\n",
    "        print(\"Not a Palindrome\")\n",
    "        break\n",
    "if flag==1:\n",
    "    print(\"Palindrome\")"
   ]
  },
  {
   "cell_type": "code",
   "execution_count": 26,
   "id": "c1c8143d",
   "metadata": {},
   "outputs": [
    {
     "name": "stdout",
     "output_type": "stream",
     "text": [
      "[1, 3, 5, 7, 9, 11, 13, 15, 17, 19, 21, 23, 25, 27, 29, 31, 33, 35, 37, 39, 41, 43, 45, 47, 49, 51, 53, 55, 57, 59, 61, 63, 65, 67, 69, 71, 73, 75, 77, 79, 81, 83, 85, 87, 89, 91, 93, 95, 97, 99]\n"
     ]
    }
   ],
   "source": [
    "#Que 9:\n",
    "\"\"\"Write a code to print odd numbers from 1 to 100 using list comprehension.\n",
    "Note: Use a list comprehension to create a list from 1 to 100 and use another List comprehension to filter \n",
    "out odd numbers.\"\"\"\n",
    "l=[i for i in range(1,101)]\n",
    "l=[i for i in l if i%2!=0]\n",
    "print(l)"
   ]
  },
  {
   "cell_type": "code",
   "execution_count": null,
   "id": "6c7ea5c3",
   "metadata": {},
   "outputs": [],
   "source": []
  }
 ],
 "metadata": {
  "kernelspec": {
   "display_name": "Python 3 (ipykernel)",
   "language": "python",
   "name": "python3"
  },
  "language_info": {
   "codemirror_mode": {
    "name": "ipython",
    "version": 3
   },
   "file_extension": ".py",
   "mimetype": "text/x-python",
   "name": "python",
   "nbconvert_exporter": "python",
   "pygments_lexer": "ipython3",
   "version": "3.9.13"
  }
 },
 "nbformat": 4,
 "nbformat_minor": 5
}
