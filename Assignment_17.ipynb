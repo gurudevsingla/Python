{
 "cells": [
  {
   "cell_type": "markdown",
   "id": "575c6dc5",
   "metadata": {},
   "source": [
    "### Assignment-17 (Web API  Assignment 18 Feb 2023) "
   ]
  },
  {
   "cell_type": "markdown",
   "id": "ade49b1d",
   "metadata": {},
   "source": [
    "#### Q1. What is an API? Give an example, where an API is used in real life.\n",
    "#### Ans 1.\n",
    "An application programming interface is a way for two or more computer programs to communicate with each other. It is a type of software interface, offering a service to other pieces of software. \n",
    "\n",
    "In Google search engine, Gmail Login, Google MAps, Google Pay, E-Commerce websites, UPI transactions and many more, are using API in real life . "
   ]
  },
  {
   "cell_type": "markdown",
   "id": "b6267d6b",
   "metadata": {},
   "source": [
    "#### Q2. Give advantages and disadvantages of using API.\n",
    "#### Ans 2.\n",
    "#### Advantages\n",
    "1. Applications: Access to APIs ensures more flexibility in information-transfer processes.\n",
    "2. Reach: APIs let you create layers in apps in order to distribute information to different audiences.\n",
    "3. Customization: Furthermore, it can serve as a solution to create different experiences for users, letting protocols, functions, and commands be adapted according to specific demands.\n",
    "4. Efficiency: When you have content that is automatically published and made available on different channels simultaneously, APIs allow for more efficient data distribution.\n",
    "5. Adaptability: One of the greatest benefits of APIs is the ability it has to adapt to changes through data migration and flexibility of services.\n",
    "#### Disadvantages\n",
    "API Security :- As a single point of entry, an API is a gateway and can become a hacker's primary target. Once the API is compromised, all other applications and systems become vulnerable."
   ]
  },
  {
   "cell_type": "markdown",
   "id": "2880a2d0",
   "metadata": {},
   "source": [
    "#### Q3. What is a Web API? Differentiate between API and Web API.\n",
    "#### Ans 3.\n",
    "Web API :- A Web API is an application programming interface for the Web. A Browser API can extend the functionality of a web browser.A Server API can extend the functionality of a web server.\n",
    "* Web API provides supports only for the HTTP protocol.\n",
    "* It supports XML.\n",
    "* Web API uses three styles: REST, SOAP, and XML-RPC for communication.\n",
    "\n",
    "API :-\n",
    "* It provides support for the HTTP/s protocol: URL Request/Response Headers, etc.\n",
    "* Responses are formatted using Web API’s MediaTypeFormatter into XML, JSON, or any other given format.\n",
    "* API can be used for any style of communication."
   ]
  },
  {
   "cell_type": "markdown",
   "id": "e8b8adf3",
   "metadata": {},
   "source": [
    "#### Q4. Explain REST and SOAP Architecture. Mention shortcomings of SOAP.\n",
    "#### Ans 4.\n",
    "#### REST (The Representational State Transfer) – \n",
    "This was designed specifically for working with components such as media components, files, or even objects on a particular hardware device. Any web service which is defined on the principles of REST can be called a RESTful web service. REST uses the normal HTTP verbs of GET, POST, PUT and DELETE for working with the required components.\n",
    "\n",
    "#### SOAP (Simple Object Access Protocol)  – \n",
    "SOAP is a lightweight XML-based protocol that is used for the exchange of information in decentralized, distributed application environments. \n",
    "\n",
    "SOAP is a protocol which was designed before REST came into the picture. The main idea behind creating SOAP was to ensure that programs built on different platforms and programming languages could securely exchange data.\n",
    "\n",
    "As SOAP can only transfer messages as XML files, your SOAP API will be less performant, as XML is a verbose format compared to JSON."
   ]
  },
  {
   "cell_type": "markdown",
   "id": "8e7c5629",
   "metadata": {},
   "source": [
    "#### Q5. Differentiate between REST and SOAP.\n",
    "#### Ans 5.\n",
    "#### REST :-\n",
    "1. Generally transports data in JSON. It is based on URI. Because REST follows stateless model, REST does not enforces message format as XML or JSON etc.\n",
    "2. It works with GET, POST, PUT, DELETE.\n",
    "3. Works over HTTP and HTTPS.\n",
    "4. Less structured -> less bulky data.\n",
    "5. Designed with mobile devices in mind.\n",
    "\n",
    "#### SOAP :-\n",
    "1. Transports data in standard XML format.\n",
    "2. Because it is XML based and relies on SOAP, it works with WSDL.\n",
    "3. Works over HTTP, HTTPS, SMTP, XMPP.\n",
    "4. Highly structured/typed.\n",
    "5. Designed with large enterprise applications in mind."
   ]
  },
  {
   "cell_type": "code",
   "execution_count": null,
   "id": "8d23366a",
   "metadata": {},
   "outputs": [],
   "source": []
  }
 ],
 "metadata": {
  "kernelspec": {
   "display_name": "Python 3 (ipykernel)",
   "language": "python",
   "name": "python3"
  },
  "language_info": {
   "codemirror_mode": {
    "name": "ipython",
    "version": 3
   },
   "file_extension": ".py",
   "mimetype": "text/x-python",
   "name": "python",
   "nbconvert_exporter": "python",
   "pygments_lexer": "ipython3",
   "version": "3.9.13"
  }
 },
 "nbformat": 4,
 "nbformat_minor": 5
}
