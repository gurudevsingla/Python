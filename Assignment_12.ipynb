{
 "cells": [
  {
   "cell_type": "code",
   "execution_count": 2,
   "id": "de7ea89b",
   "metadata": {},
   "outputs": [
    {
     "data": {
      "text/plain": [
       "'Exception in python are basically runtime errors which are the reson behind abnormal termination of program \\nwhere as synatax error are compile time issue or mistakes while writing code'"
      ]
     },
     "execution_count": 2,
     "metadata": {},
     "output_type": "execute_result"
    }
   ],
   "source": [
    "#Que 1:\n",
    "\"\"\"What is an Exception in python? Write the difference between Exceptions and Syntax errors.\"\"\"\n",
    "\n",
    "\"\"\"Exception in python are basically runtime errors which are the reson behind abnormal termination of program \n",
    "where as synatax error are compile time issue or mistakes while writing code\"\"\""
   ]
  },
  {
   "cell_type": "code",
   "execution_count": 5,
   "id": "afcf5b93",
   "metadata": {},
   "outputs": [
    {
     "ename": "ZeroDivisionError",
     "evalue": "division by zero",
     "output_type": "error",
     "traceback": [
      "\u001b[1;31m---------------------------------------------------------------------------\u001b[0m",
      "\u001b[1;31mZeroDivisionError\u001b[0m                         Traceback (most recent call last)",
      "\u001b[1;32m~\\AppData\\Local\\Temp\\ipykernel_24152\\3759821008.py\u001b[0m in \u001b[0;36m<module>\u001b[1;34m\u001b[0m\n\u001b[0;32m      3\u001b[0m \u001b[1;33m\u001b[0m\u001b[0m\n\u001b[0;32m      4\u001b[0m \u001b[1;34m\"\"\"It leads to the abnormal termination of program and rest of the code will not execute\"\"\"\u001b[0m\u001b[1;33m\u001b[0m\u001b[1;33m\u001b[0m\u001b[0m\n\u001b[1;32m----> 5\u001b[1;33m \u001b[0mc\u001b[0m\u001b[1;33m=\u001b[0m\u001b[1;36m5\u001b[0m\u001b[1;33m/\u001b[0m\u001b[1;36m0\u001b[0m\u001b[1;33m\u001b[0m\u001b[1;33m\u001b[0m\u001b[0m\n\u001b[0m\u001b[0;32m      6\u001b[0m \u001b[0mprint\u001b[0m\u001b[1;33m(\u001b[0m\u001b[1;34m\"hey\"\u001b[0m\u001b[1;33m)\u001b[0m\u001b[1;33m\u001b[0m\u001b[1;33m\u001b[0m\u001b[0m\n",
      "\u001b[1;31mZeroDivisionError\u001b[0m: division by zero"
     ]
    }
   ],
   "source": [
    "#Que 2:\n",
    "\"\"\"What happens when an exception is not handled? Explain with an example.\"\"\"\n",
    "\n",
    "\"\"\"It leads to the abnormal termination of program and rest of the code will not execute\"\"\"\n",
    "c=5/0\n",
    "print(\"hey\")"
   ]
  },
  {
   "cell_type": "code",
   "execution_count": 9,
   "id": "cd0be52b",
   "metadata": {},
   "outputs": [
    {
     "name": "stdout",
     "output_type": "stream",
     "text": [
      "Exception :  division by zero\n",
      "hey\n"
     ]
    }
   ],
   "source": [
    "#Que 3:\n",
    "\"\"\"Which Python statements are used to catch and handle exceptions? Explain with an example.\"\"\"\n",
    "\n",
    "\"\"\"try and except are used for handling an exception\"\"\"\n",
    "try:\n",
    "    c=5/0\n",
    "except ArithmeticError as e:\n",
    "    print(\"Exception : \",e)\n",
    "print(\"hey\")"
   ]
  },
  {
   "cell_type": "code",
   "execution_count": 15,
   "id": "7d830058",
   "metadata": {},
   "outputs": [
    {
     "name": "stdout",
     "output_type": "stream",
     "text": [
      "5.0\n",
      "Exception handled\n"
     ]
    }
   ],
   "source": [
    "#Que 4:\n",
    "\"\"\"Explain with an example:\n",
    "a. try and else\n",
    "b. finally\n",
    "c. raise \"\"\"\n",
    "\n",
    "\"\"\"try block contains all the statement where exception is expected\n",
    "else block will execute if there is no exception in try statements\n",
    "finally block will always execute whatever the condition is\n",
    "raise is used to generate custom exception\"\"\"\n",
    "try:\n",
    "    c=15/3\n",
    "except ArithmeticError as e:\n",
    "    print(\"Exception : \",e)\n",
    "else:\n",
    "    if c==3:\n",
    "        raise Exception(\"Result is 3\")\n",
    "    print(c)\n",
    "    \n",
    "finally:\n",
    "    print(\"Exception handled\")\n"
   ]
  },
  {
   "cell_type": "code",
   "execution_count": 12,
   "id": "d27a0490",
   "metadata": {},
   "outputs": [
    {
     "name": "stdout",
     "output_type": "stream",
     "text": [
      "Custom Exception when b == 6\n"
     ]
    },
    {
     "data": {
      "text/plain": [
       "'Custom exceptions are basically user defined exception which we can use according to us'"
      ]
     },
     "execution_count": 12,
     "metadata": {},
     "output_type": "execute_result"
    }
   ],
   "source": [
    "#Que 5:\n",
    "\"\"\"What are Custom Exceptions in python? Why do we need Custom Exceptions? Explain with an example.\"\"\"\n",
    "b=6\n",
    "try:\n",
    "    if(b==6):\n",
    "        raise\n",
    "    c=5/b\n",
    "except Exception as e:\n",
    "    print(\"Custom Exception when b ==\",b)\n",
    "\"\"\"Custom exceptions are basically user defined exception which we can use according to us\"\"\""
   ]
  },
  {
   "cell_type": "code",
   "execution_count": 16,
   "id": "f4e73987",
   "metadata": {},
   "outputs": [
    {
     "name": "stdout",
     "output_type": "stream",
     "text": [
      "Enter your Age.5\n",
      "Age is valid.\n"
     ]
    }
   ],
   "source": [
    "# class validateage is derived from super class Exception\n",
    "class validateage(Exception):\n",
    "    \n",
    "    # Constructor or Initilizer\n",
    "    def __init__(self , msg) : \n",
    "        self.msg = msg\n",
    "        \n",
    "# defining isyouragevalid() fuction with raise       \n",
    "def isyouragevalid(Age) : \n",
    "    if Age <= 0 :\n",
    "        raise validateage(\"Entered age is negative.\")\n",
    "    elif Age > 200 : \n",
    "        raise validateage(\"Enterd age is very very high.\")\n",
    "    else :\n",
    "        print(\"Age is valid.\")     \n",
    "\n",
    "# Handling the Exception        \n",
    "try :\n",
    "    Age = int(input(\"Enter your Age.\" ))\n",
    "    isyouragevalid(Age)\n",
    "except validateage as e :\n",
    "    print(e)"
   ]
  },
  {
   "cell_type": "code",
   "execution_count": null,
   "id": "693bd5c4",
   "metadata": {},
   "outputs": [],
   "source": []
  }
 ],
 "metadata": {
  "kernelspec": {
   "display_name": "Python 3 (ipykernel)",
   "language": "python",
   "name": "python3"
  },
  "language_info": {
   "codemirror_mode": {
    "name": "ipython",
    "version": 3
   },
   "file_extension": ".py",
   "mimetype": "text/x-python",
   "name": "python",
   "nbconvert_exporter": "python",
   "pygments_lexer": "ipython3",
   "version": "3.9.13"
  }
 },
 "nbformat": 4,
 "nbformat_minor": 5
}
