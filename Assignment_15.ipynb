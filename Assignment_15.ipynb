{
 "cells": [
  {
   "cell_type": "markdown",
   "id": "d9ac9d1e",
   "metadata": {},
   "source": [
    "#### Q1. What is a database? Differentiate between SQL and NoSQL databases.\n",
    "#### Ans 1.\n",
    "#### Database :-\n",
    "Database is a collection of organized data that can be stored and retrieved using different database modelling and design approaches.\n",
    "\n",
    "For Example :- Let us consider Google Chrome's Search Engine as \"Database\" because it stores the search keywords that are frequently used by the users all over the world.\n",
    "#### SQL Database :- \n",
    "* SQL database is a RELATIONAL DATABASE MANAGEMENT SYSTEM (RDBMS).\n",
    "* SQL databases have fixed or static or predefined schema.\n",
    "* SQL databases display data in form of tables so it is known as table-based database.\n",
    "* SQL databases are vertically scalable.\n",
    "* SQL databases use a powerful language \"Structured Query Language\" to define and manipulate the data.\n",
    "* SQL databases are best suited for complex queries.\n",
    "* SQL databases are not best suited for hierarchical data storage.\n",
    "* MySQL, Oracle, Sqlite, PostgreSQL and MS-SQL etc. are the example of SQL database.\n",
    "\n",
    "#### NoSQL Database :-\n",
    "* NoSQL database is a Non-relational or distributed database system.\n",
    "* NoSQL databases have dynamic schema.\n",
    "* NoSQL databases display data as collection of key-value pair, documents, graph databases or wide-column stores.\n",
    "* NoSQL databases are horizontally scalable.\n",
    "* In NoSQL databases, collection of documents are used to query the data. It is also called unstructured query language. It varies from database to database.\n",
    "* NoSQL databases are not so good for complex queries because these are not as powerful as SQL queries.\n",
    "* NoSQL databases are best suited for hierarchical data storage.\n",
    "* MongoDB, BigTable, Redis, RavenDB, Cassandra, Hbase, Neo4j, CouchDB etc. are the example of nosql database."
   ]
  },
  {
   "cell_type": "markdown",
   "id": "608cff55",
   "metadata": {},
   "source": [
    "#### Q2. What is DDL? Explain why CREATE, DROP, ALTER, and TRUNCATE are used with an example.\n",
    "#### Ans 2.\n",
    "#### DDL (Data Definition Language) :-\n",
    "* DDL or Data Definition Language actually consists of the SQL commands that can be used to define the database schema. \n",
    "* It simply deals with descriptions of the database schema and is used to create and modify the structure of database objects in the database. \n",
    "* DDL is a set of SQL commands used to create, modify, and delete database structures but not data. \n",
    "\n",
    "CREATE: This command is used to create the database or its objects (like table, index, function, views, store procedure, and triggers).\n",
    "\n",
    "* CREATE TABLE tablename ( Col1_Name Data Type, Col2_Name Data Type,...Coln_Name Data Type);    Example: CREATE TABLE Payment_Methods (Payment_ID INT(8), NAME VARCHAR(50), DATE DATE,CONTACT VARCHAR(50),\n",
    "\n",
    "DROP: This command is used to delete objects from the database.\n",
    "* SYNTAX: DROP TABLE tablename;  Ex: DROP Table Payment_Methods;\n",
    "\n",
    "ALTER: This is used to alter the structure of the database.\n",
    "* SYNTAX for Adding New Column in Existing Table: ALTER TABLE tablename ADD new_Columnname datatype; Ex: ALTER TABLE payment_methods ADD Transaction_Date Date;\n",
    "\n",
    "TRUNCATE: This is used to remove all records from a table, including all spaces allocated for the records are removed.\n",
    "* SYNTAX: TRUNCATE tablename; Ex: TRUNCATE payment_methods;"
   ]
  },
  {
   "cell_type": "markdown",
   "id": "850c4005",
   "metadata": {},
   "source": [
    "#### Q3. What is DML? Explain INSERT, UPDATE, and DELETE with an example.\n",
    "#### Ans 3.\n",
    "#### DML (Data Manipulation Language) :-\n",
    "* The SQL commands that deals with the manipulation of data present in the database belong to DML or Data Manipulation Language and this includes most of the SQL statements. \n",
    "* It is the component of the SQL statement that controls access to data and to the database. Basically, DCL statements are grouped with DML statements.\n",
    "\n",
    "INSERT : It is used to insert data into a table.\n",
    "* INSERT INTO tablename Values (Col1_Value, Col2_Value...Col(n)Value);\n",
    "\n",
    "UPDATE: It is used to update existing data within a table.\n",
    "* SYNTAX: UPDATE tablename SET ColumnName1 = New Value1, ColumnName2 = New Value2...\n",
    "\n",
    "  where Clause Condition;\n",
    "  \n",
    "  UPDATE SQL_Invoicing.payment_methods\n",
    "  \n",
    "  SET NAME = 'UPI Transaction' where NAME = 'PayPal';\n",
    "\n",
    "DELETE : It is used to delete records from a database table.\n",
    "* SYNTAX: DELETE from tablename where Condition(Optional).\n",
    "\n",
    "  Ex: If we want to delete the particular row/record in a table.\n",
    "  \n",
    "  DELETE from SQL_Invoicing.payment_methods where Payment_method_id = '3';\n",
    "  \n",
    "  If we want to delete the particular value in entire table.\n",
    "  \n",
    "  DELETE from SQL_Invoicing.payment_methods where NAME = 'CASH';"
   ]
  },
  {
   "cell_type": "markdown",
   "id": "85d00a58",
   "metadata": {},
   "source": [
    "#### Q4. What is DQL? Explain SELECT with an example.\n",
    "#### DQL (Data Query Language) :-\n",
    "DQL statements are used for performing queries on the data within schema objects. The purpose of the DQL Command is to get some schema relation based on the query passed to it.\n",
    "\n",
    "SELECT :  It is used to retrieve data from the database.\n",
    "* SELECT * from databasename.tablename;\n",
    "* select * from test2.test_table;"
   ]
  },
  {
   "cell_type": "markdown",
   "id": "22c0ce7a",
   "metadata": {},
   "source": [
    "#### Q5. Explain Primary Key and Foreign Key.\n",
    "#### Ans 5.\n",
    "#### Primary Key :- \n",
    "* The PRIMARY KEY constraint uniquely identifies each record in a table.\n",
    "* Primary keys must contain UNIQUE values, and cannot contain NULL values.\n",
    "* A table can have only ONE primary key; and in the table, this primary key can consist of single or multiple columns (fields).\n",
    "\n",
    "CREATE TABLE Persons (\n",
    "    ID int NOT NULL,\n",
    "    LastName varchar(255) NOT NULL,\n",
    "    FirstName varchar(255),\n",
    "    Age int,\n",
    "    PRIMARY KEY (ID)\n",
    ") ;\n",
    "#### Foreign Key :-\n",
    "* The FOREIGN KEY constraint is used to prevent actions that would destroy links between tables.\n",
    "* A FOREIGN KEY is a field (or collection of fields) in one table, that refers to the PRIMARY KEY in another table.\n",
    "* The table with the foreign key is called the child table, and the table with the primary key is called the referenced or parent table.\n",
    "* The FOREIGN KEY constraint prevents invalid data from being inserted into the foreign key column, because it has to be one of the values contained in the parent table.\n",
    "\n",
    "CREATE TABLE Orders (\n",
    "    OrderID int NOT NULL PRIMARY KEY,\n",
    "    OrderNumber int NOT NULL,\n",
    "    PersonID int FOREIGN KEY REFERENCES Persons(PersonID)\n",
    ") ;\n"
   ]
  },
  {
   "cell_type": "markdown",
   "id": "a99457d7",
   "metadata": {},
   "source": [
    "#### Q6. Write a python code to connect MySQL to python. Explain the cursor() and execute() method.\n",
    "#### Ans 6.\n",
    "#### cursor() method :- \n",
    "The MySQLCursor of mysql-connector-python (and similar libraries) is used to execute statements to communicate with the MySQL database.\n",
    "\n",
    "Using the methods of it you can execute SQL statements, fetch data from the result sets, call procedures.\n",
    "\n",
    "You can create Cursor object using the cursor() method of the Connection object/class.\n",
    "\n",
    "#### execute() method :-\n",
    "This method executes the given database operation (query or command). The parameters found in the tuple or dictionary params are bound to the variables in the operation. Specify variables using %s or %(name)s parameter style (that is, using format or pyformat style). execute() returns an iterator if multi is True."
   ]
  },
  {
   "cell_type": "code",
   "execution_count": 3,
   "id": "055501fc",
   "metadata": {},
   "outputs": [
    {
     "name": "stdout",
     "output_type": "stream",
     "text": [
      "<mysql.connector.connection_cext.CMySQLConnection object at 0x0000026315930490>\n",
      "('api',)\n",
      "('carbon',)\n",
      "('information_schema',)\n",
      "('mysql',)\n",
      "('performance_schema',)\n",
      "('sakila',)\n",
      "('student',)\n",
      "('sys',)\n",
      "('world',)\n"
     ]
    }
   ],
   "source": [
    "import mysql.connector\n",
    "mydb = mysql.connector.connect( host=\"127.0.0.1\",user=\"root\",password=\"mysqlgd\")\n",
    "print(mydb)\n",
    "mycursor = mydb.cursor()\n",
    "mycursor.execute(\"SHOW DATABASES\")\n",
    "for x in mycursor:\n",
    "    print(x)"
   ]
  },
  {
   "cell_type": "code",
   "execution_count": null,
   "id": "a6886b7d",
   "metadata": {},
   "outputs": [],
   "source": []
  }
 ],
 "metadata": {
  "kernelspec": {
   "display_name": "Python 3 (ipykernel)",
   "language": "python",
   "name": "python3"
  },
  "language_info": {
   "codemirror_mode": {
    "name": "ipython",
    "version": 3
   },
   "file_extension": ".py",
   "mimetype": "text/x-python",
   "name": "python",
   "nbconvert_exporter": "python",
   "pygments_lexer": "ipython3",
   "version": "3.9.13"
  }
 },
 "nbformat": 4,
 "nbformat_minor": 5
}
