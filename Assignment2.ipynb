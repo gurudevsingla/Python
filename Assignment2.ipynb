{
 "cells": [
  {
   "cell_type": "code",
   "execution_count": 2,
   "id": "caac18d6",
   "metadata": {},
   "outputs": [
    {
     "name": "stdout",
     "output_type": "stream",
     "text": [
      "Enter the percentage of student : 72\n",
      "Grade : C\n"
     ]
    }
   ],
   "source": [
    "#Que 1\n",
    "a=int(input(\"Enter the percentage of student : \"))\n",
    "if a>90:\n",
    "    print(\"Grade : A\")\n",
    "elif a>80 and a<=90:\n",
    "    print(\"Grade : B\")\n",
    "elif a>=60 and a<=80:\n",
    "    print(\"Grade : C\")\n",
    "else:\n",
    "    print(\"Grade : D\")"
   ]
  },
  {
   "cell_type": "code",
   "execution_count": 3,
   "id": "39f1ac8c",
   "metadata": {},
   "outputs": [
    {
     "name": "stdout",
     "output_type": "stream",
     "text": [
      "Enter the cost price of a bike : 100000\n",
      "Tax to be paid :  10000.0\n"
     ]
    }
   ],
   "source": [
    "#Que 2\n",
    "cp=int(input(\"Enter the cost price of a bike : \"))\n",
    "tax=0\n",
    "if cp>100000:\n",
    "    tax=cp*15/100\n",
    "elif cp>50000 and cp<=100000:\n",
    "    tax=cp*10/100\n",
    "else:\n",
    "    tax=cp*5/100\n",
    "print(\"Tax to be paid : \",tax)"
   ]
  },
  {
   "cell_type": "code",
   "execution_count": 5,
   "id": "deeeca33",
   "metadata": {},
   "outputs": [
    {
     "name": "stdout",
     "output_type": "stream",
     "text": [
      "Enter the name of city : Agra\n",
      "Monument in the city :  Taj Mahal\n"
     ]
    }
   ],
   "source": [
    "#Que 3\n",
    "city=input(\"Enter the name of city : \")\n",
    "if city==\"Delhi\":\n",
    "    Monument=\"Red Fort\"\n",
    "elif city==\"Agra\":\n",
    "    Monument=\"Taj Mahal\"\n",
    "elif city==\"Jaipur\":\n",
    "    Monument=\"Jal Mahal\"\n",
    "else:\n",
    "    Monument=\"Sorry! i don't know the monument\"\n",
    "print(\"Monument in the city : \",Monument)"
   ]
  },
  {
   "cell_type": "code",
   "execution_count": 9,
   "id": "881dbb4f",
   "metadata": {},
   "outputs": [
    {
     "name": "stdout",
     "output_type": "stream",
     "text": [
      "Enter a number : 32\n",
      "2  times we can divide by 3 before it is less than or equal to 10\n"
     ]
    }
   ],
   "source": [
    "#Que 4\n",
    "num=int(input(\"Enter a number : \"))\n",
    "count=0\n",
    "while True:\n",
    "    if num>10:\n",
    "        num=num/3\n",
    "        count+=1\n",
    "    else:\n",
    "        break\n",
    "print(count,\" times we can divide by 3 before it is less than or equal to 10\")"
   ]
  },
  {
   "cell_type": "code",
   "execution_count": 11,
   "id": "4352c2b2",
   "metadata": {},
   "outputs": [
    {
     "data": {
      "text/plain": [
       "\"Above Question have implementation of while loop\\nWe have to give condition in front of while until the condition is 'True' control will move inside the loop and if condition gets 'False' then control will move outside the loop\""
      ]
     },
     "execution_count": 11,
     "metadata": {},
     "output_type": "execute_result"
    }
   ],
   "source": [
    "#Que 5\n",
    "\"\"\"Above Question have implementation of while loop\n",
    "We have to give condition in front of while until the condition is 'True' control will move inside the loop and if condition gets 'False' then control will move outside the loop\"\"\""
   ]
  },
  {
   "cell_type": "code",
   "execution_count": 47,
   "id": "7fc921db",
   "metadata": {},
   "outputs": [
    {
     "name": "stdout",
     "output_type": "stream",
     "text": [
      "Enter a number : 7\n",
      "Shape 1 :\n",
      "\n",
      "\n",
      "* * * * * * * \n",
      "\n",
      "  * * * * * \n",
      "\n",
      "    * * * \n",
      "\n",
      "      * \n",
      "\n",
      "Enter a number : 5\n",
      "Shape : 2\n",
      "\n",
      "+ + + + + \n",
      "+ + + + + \n",
      "+ + + + + \n",
      "+ + + + + \n",
      "+ + + + + \n",
      "\n",
      "Enter a number : 4\n",
      "Shape : 3\n",
      "\n",
      "*             * \n",
      "* *         * * \n",
      "* * *     * * * \n",
      "* * * * * * * * \n"
     ]
    }
   ],
   "source": [
    "#Que 6\n",
    "n=int(input(\"Enter a number : \"))\n",
    "i=0\n",
    "print(\"Shape 1 :\")\n",
    "while i<int(n/2+1):\n",
    "    j=0\n",
    "    print(\"\\n\")\n",
    "    while j<n-i:\n",
    "        if j<i:\n",
    "            print(\"  \",end=\"\")\n",
    "        else:\n",
    "            print(\"* \",end=\"\")\n",
    "        j+=1\n",
    "    i+=1\n",
    "print(\"\\n\")\n",
    "n=int(input(\"Enter a number : \"))\n",
    "print(\"Shape : 2\")\n",
    "i=0\n",
    "while i<n:\n",
    "    j=0\n",
    "    print()\n",
    "    while j<n:\n",
    "        print(\"+ \",end=\"\")\n",
    "        j+=1\n",
    "    i+=1\n",
    "print(\"\\n\")\n",
    "n=int(input(\"Enter a number : \"))\n",
    "print(\"Shape : 3\\n\")\n",
    "i=1\n",
    "while i<=n:\n",
    "        print(\"* \"*i+\"  \"*((n*2)-(i*2))+\"* \"*i)\n",
    "        i=i+1"
   ]
  },
  {
   "cell_type": "code",
   "execution_count": 39,
   "id": "2003894d",
   "metadata": {},
   "outputs": [
    {
     "name": "stdout",
     "output_type": "stream",
     "text": [
      "10\n",
      "9\n",
      "8\n",
      "7\n",
      "6\n",
      "5\n",
      "4\n",
      "3\n",
      "2\n",
      "1\n"
     ]
    }
   ],
   "source": [
    "#Que 7\n",
    "num=10\n",
    "while num>=1:\n",
    "    print(num)\n",
    "    num-=1"
   ]
  },
  {
   "cell_type": "code",
   "execution_count": 14,
   "id": "c5c173ea",
   "metadata": {},
   "outputs": [
    {
     "data": {
      "text/plain": [
       "'Same as above'"
      ]
     },
     "execution_count": 14,
     "metadata": {},
     "output_type": "execute_result"
    }
   ],
   "source": [
    "#Que 8\n",
    "\"\"\"Same as above\"\"\""
   ]
  },
  {
   "cell_type": "code",
   "execution_count": null,
   "id": "cc4070f7",
   "metadata": {},
   "outputs": [],
   "source": []
  }
 ],
 "metadata": {
  "kernelspec": {
   "display_name": "Python 3 (ipykernel)",
   "language": "python",
   "name": "python3"
  },
  "language_info": {
   "codemirror_mode": {
    "name": "ipython",
    "version": 3
   },
   "file_extension": ".py",
   "mimetype": "text/x-python",
   "name": "python",
   "nbconvert_exporter": "python",
   "pygments_lexer": "ipython3",
   "version": "3.9.13"
  }
 },
 "nbformat": 4,
 "nbformat_minor": 5
}
