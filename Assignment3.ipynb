{
 "cells": [
  {
   "cell_type": "code",
   "execution_count": 5,
   "id": "3f1a20d2",
   "metadata": {},
   "outputs": [
    {
     "name": "stdout",
     "output_type": "stream",
     "text": [
      "1\n",
      "5\n",
      "Gurudev\n",
      "1\n",
      "5\n",
      "Gurudev\n"
     ]
    }
   ],
   "source": [
    "#Que 1 : Explain with an example each when to use a for loop and a while loop.\n",
    "\"\"\"We have seen definition of while loop in previous assignments 'for' loop will be useful when we need to iterate through a range or data\"\"\"\n",
    "l=[1,5,\"Gurudev\"]\n",
    "#By using for loop\n",
    "for i in l:\n",
    "    print(i)\n",
    "#By using while loop\n",
    "i=0\n",
    "while i<len(l):\n",
    "    print(l[i])\n",
    "    i+=1"
   ]
  },
  {
   "cell_type": "code",
   "execution_count": 8,
   "id": "c5845584",
   "metadata": {},
   "outputs": [
    {
     "name": "stdout",
     "output_type": "stream",
     "text": [
      "Sum of first 10 natural no is =  55\n",
      "Product of first 10 natural no is =  3628800\n",
      "Sum of first 10 natural number is :  55\n",
      "Product of first 10 natural no is :  3628800\n"
     ]
    }
   ],
   "source": [
    "#Que 2 :\n",
    "\"\"\"Write a python program to print the sum and product of the first 10 natural numbers using for \n",
    "and while loop.\"\"\"\n",
    "sum=0\n",
    "prod=1\n",
    "for i in range(1,11):\n",
    "    sum=sum+i\n",
    "    prod=prod*i\n",
    "print(\"Sum of first 10 natural no is = \",sum)\n",
    "print(\"Product of first 10 natural no is = \",prod)\n",
    "sum=0\n",
    "prod=1\n",
    "i=1\n",
    "while i<=10:\n",
    "    sum=sum+i\n",
    "    prod=prod*i\n",
    "    i+=1\n",
    "print(\"Sum of first 10 natural number is : \",sum)\n",
    "print(\"Product of first 10 natural no is : \",prod)"
   ]
  },
  {
   "cell_type": "code",
   "execution_count": 11,
   "id": "72281f11",
   "metadata": {},
   "outputs": [
    {
     "name": "stdout",
     "output_type": "stream",
     "text": [
      "Enter the no. of units : 310\n",
      "You have to pay :  2250.0\n"
     ]
    }
   ],
   "source": [
    "#Que 3 : Create a python program to compute the electricity bill for a household.\n",
    "\"\"\"The per-unit charges in rupees are as follows: For the first 100 units, the user will be charged Rs. 4.5 per \n",
    "unit, for the next 100 units, the user will be charged Rs. 6 per unit, and for the next 100 units, the user will \n",
    "be charged Rs. 10 per unit, After 300 units and above the user will be charged Rs. 20 per unit.\n",
    "You are required to take the units of electricity consumed in a month from the user as input.\n",
    "Your program must pass this test case: when the unit of electricity consumed by the user in a month is \n",
    "310, the total electricity bill should be 2250.\n",
    "\"\"\"\n",
    "unit=int(input(\"Enter the no. of units : \"))\n",
    "if unit<=100:\n",
    "    bill=unit*4.5\n",
    "elif unit<=200:\n",
    "    bill=(100*4.5)+(unit-100)*6\n",
    "elif unit<=300:\n",
    "    bill=(100*4.5)+(100*6)+(unit-200)*10\n",
    "else:\n",
    "    bill=(100*4.5)+(100*6)+(100*10)+(unit-300)*20\n",
    "print(\"You have to pay : \",bill)"
   ]
  },
  {
   "cell_type": "code",
   "execution_count": 1,
   "id": "77d7e130",
   "metadata": {},
   "outputs": [
    {
     "name": "stdout",
     "output_type": "stream",
     "text": [
      "By using for loop : \n",
      "[2, 4, 5, 6, 8, 10, 12, 14, 15, 16, 18, 20, 22, 24, 25, 26, 28, 30, 32, 34, 35, 36, 38, 40, 42, 44, 45, 46, 48, 50, 52, 54, 55, 56, 58, 60, 62, 64, 65, 66, 68, 70, 72, 74, 75, 76, 78, 80, 82, 84, 85, 86, 88, 90, 92, 94, 95, 96, 98, 100]\n",
      "By using while loop : \n",
      "[2, 4, 5, 6, 8, 10, 12, 14, 15, 16, 18, 20, 22, 24, 25, 26, 28, 30, 32, 34, 35, 36, 38, 40, 42, 44, 45, 46, 48, 50, 52, 54, 55, 56, 58, 60, 62, 64, 65, 66, 68, 70, 72, 74, 75, 76, 78, 80, 82, 84, 85, 86, 88, 90, 92, 94, 95, 96, 98, 100]\n"
     ]
    }
   ],
   "source": [
    "#que 4 :\n",
    "\"\"\"Create a list of numbers from 1 to 100. Use for loop and while loop to calculate the cube of each \n",
    "number and if the cube of that number is divisible by 4 or 5 then append that number in a list and print \n",
    "that list.\"\"\"\n",
    "l=list(range(1,101))\n",
    "lst=[]\n",
    "for i in l:\n",
    "    if(i**3 % 4==0 or i**3 % 5==0):\n",
    "        lst.append(i)\n",
    "print(\"By using for loop : \")\n",
    "print(lst)\n",
    "i=0\n",
    "lst=[]\n",
    "while i<len(l):\n",
    "    if(l[i]**3 % 4==0 or l[i]**3 % 5==0):\n",
    "        lst.append(l[i])\n",
    "    i+=1\n",
    "print(\"By using while loop : \")\n",
    "print(lst) "
   ]
  },
  {
   "cell_type": "code",
   "execution_count": 13,
   "id": "32c1467e",
   "metadata": {},
   "outputs": [
    {
     "name": "stdout",
     "output_type": "stream",
     "text": [
      "Total no of vowels in string is :  12\n"
     ]
    }
   ],
   "source": [
    "#Que 5 :\n",
    "\"\"\"Write a program to filter count vowels in the below-given string.\n",
    "string = 'I want to become a data scientist'\"\"\"\n",
    "count=0\n",
    "string=\"I want to become a data scientist\"\n",
    "for i in string:\n",
    "    if(i==\"a\" or i==\"e\" or i==\"i\" or i==\"o\" or i==\"u\" or i==\"A\" or i==\"E\" or i==\"I\" or i==\"O\" or i==\"U\"):\n",
    "        count+=1\n",
    "print(\"Total no of vowels in string is : \",count)"
   ]
  },
  {
   "cell_type": "code",
   "execution_count": null,
   "id": "b91fc70c",
   "metadata": {},
   "outputs": [],
   "source": []
  }
 ],
 "metadata": {
  "kernelspec": {
   "display_name": "Python 3 (ipykernel)",
   "language": "python",
   "name": "python3"
  },
  "language_info": {
   "codemirror_mode": {
    "name": "ipython",
    "version": 3
   },
   "file_extension": ".py",
   "mimetype": "text/x-python",
   "name": "python",
   "nbconvert_exporter": "python",
   "pygments_lexer": "ipython3",
   "version": "3.9.13"
  }
 },
 "nbformat": 4,
 "nbformat_minor": 5
}
