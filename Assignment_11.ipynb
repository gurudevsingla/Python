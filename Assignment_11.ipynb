{
 "cells": [
  {
   "cell_type": "code",
   "execution_count": 1,
   "id": "22a8c8df",
   "metadata": {},
   "outputs": [
    {
     "data": {
      "text/plain": [
       "\"open('filename','mode') is used to open a file we can press shift and tab by clicking inside function \\nand read about modes\""
      ]
     },
     "execution_count": 1,
     "metadata": {},
     "output_type": "execute_result"
    }
   ],
   "source": [
    "#Que 1:\n",
    "\"\"\"Which function is used to open a file? What are the different modes of opening a file? Explain each mode \n",
    "of file opening.\"\"\"\n",
    "\n",
    "\"\"\"open('filename','mode') is used to open a file we can press shift and tab by clicking inside function \n",
    "and read about modes\"\"\""
   ]
  },
  {
   "cell_type": "code",
   "execution_count": 3,
   "id": "4dcfc9fe",
   "metadata": {},
   "outputs": [
    {
     "data": {
      "text/plain": [
       "'It is used to close the file if file remains open then it will take unnecessary\\nspace and operations will not complete'"
      ]
     },
     "execution_count": 3,
     "metadata": {},
     "output_type": "execute_result"
    }
   ],
   "source": [
    "#Que 2:\n",
    "\"\"\"Why close() function is used? Why is it important to close a file?\"\"\"\n",
    "\n",
    "\"\"\"You should always close your files, in some cases, due to buffering, changes made to a file may not show until you close the file.\n",
    "\n",
    "Because files are limited resources managed by the operating system, making sure files are closed after use will protect against hard-to-debug issues like running out of file handles or experiencing corrupted data.\"\"\""
   ]
  },
  {
   "cell_type": "code",
   "execution_count": 8,
   "id": "2b9a3951",
   "metadata": {},
   "outputs": [
    {
     "name": "stdout",
     "output_type": "stream",
     "text": [
      "I want to become a Data Scientist\n"
     ]
    }
   ],
   "source": [
    "#Que 3:\n",
    "\"\"\"Write a python program to create a text file. Write ‘I want to become a Data Scientist’ in that file. Then \n",
    "close the file. Open this file and read the content of the file.\"\"\"\n",
    "\n",
    "try:\n",
    "    file=open(\"filehandlingassignment.txt\",'w')\n",
    "    file.write(\"I want to become a Data Scientist\")\n",
    "except Exception as e:\n",
    "    print(e)\n",
    "else:\n",
    "    file.close()\n",
    "    try:\n",
    "        file=open(\"filehandlingassignment.txt\",'r')\n",
    "        print(file.read())\n",
    "    except Exception as e:\n",
    "        print(e)\n",
    "    finally:\n",
    "        file.close()"
   ]
  },
  {
   "cell_type": "code",
   "execution_count": null,
   "id": "d738390d",
   "metadata": {},
   "outputs": [],
   "source": [
    "#Que 4:\n",
    "\"\"\"Explain the following with python code: read(), readline() and readlines().\n",
    "Ans 4.\n",
    "The read() method Read at most n characters from stream.Read from underlying buffer until we have n characters or we hit EOF. If n is negative or omitted, read until EOF.\n",
    "The readline() method will return a line from the file when called.\n",
    "The readlines() method will return all the lines in a file in the format of a list where each element is a line in the file.\"\"\""
   ]
  },
  {
   "cell_type": "code",
   "execution_count": null,
   "id": "06a74275",
   "metadata": {},
   "outputs": [],
   "source": [
    "#Que 5:\n",
    "'''Explain why with statement is used with open(). What is the advantage of using with statement and open() together?\n",
    "Ans 5.\n",
    "\"with statement\" creates an execution block and object created in the with statement will be destroyed or gracefully closed when this execution block ends.\n",
    "\n",
    "It means when we used “with statement” with open() function, an execution blocked started and the file object returned by open() function is assigned to file_object. When this execution block of “with statement” end, then the file object’s close function gets called automatically, and the file will be closed gracefully. We don’t need to manually call the close() function anymore if we are using “with statement”\n",
    "\n",
    "Fewer chances of bug due to coding error\n",
    "\n",
    "No need to explicitly close the opened file, “with statement” takes care of that. When with the block ends, it will automatically close the file. So, it reduces the number of lines of code and reduces the chances of bug.\n",
    "\n",
    "Excellent handling in case of exception'''"
   ]
  },
  {
   "cell_type": "code",
   "execution_count": 2,
   "id": "e3c1eaec",
   "metadata": {},
   "outputs": [
    {
     "name": "stdout",
     "output_type": "stream",
     "text": [
      "55\n",
      "Myself Gurudev Singla. Want to become a data scientist.\n",
      "None\n",
      "Myself Gurudev Singla. Want to become a data scientist. Gurudev Singla Data Scientist\n"
     ]
    }
   ],
   "source": [
    "#Que 6:\n",
    "\"\"\"Explain the write() and writelines() functions. Give a suitable example.\n",
    "Ans 6.\n",
    "The write() method accepts a string as an argument and writes this string to the text file.\n",
    "The writelines() method accepts an iterable i.e. a string or the list of strings as an argument and writes these strings to the text file.\"\"\"\n",
    "with open(\"my.txt\",\"w\") as f2 :\n",
    "    print(f2.write(\"Myself Gurudev Singla. Want to become a data scientist.\"))\n",
    "55\n",
    "with open(\"my.txt\", \"r\") as f3 :\n",
    "    print(f3.read())\n",
    "\n",
    "with open(\"my.txt\",\"a\") as f3 :\n",
    "    print(f3.writelines([\" Gurudev Singla\", \" Data Scientist\"]))\n",
    "None\n",
    "with open(\"my.txt\", \"r\") as f3 :\n",
    "    print(f3.read())"
   ]
  },
  {
   "cell_type": "code",
   "execution_count": null,
   "id": "a8d7b2d8",
   "metadata": {},
   "outputs": [],
   "source": []
  }
 ],
 "metadata": {
  "kernelspec": {
   "display_name": "Python 3 (ipykernel)",
   "language": "python",
   "name": "python3"
  },
  "language_info": {
   "codemirror_mode": {
    "name": "ipython",
    "version": 3
   },
   "file_extension": ".py",
   "mimetype": "text/x-python",
   "name": "python",
   "nbconvert_exporter": "python",
   "pygments_lexer": "ipython3",
   "version": "3.9.13"
  }
 },
 "nbformat": 4,
 "nbformat_minor": 5
}
