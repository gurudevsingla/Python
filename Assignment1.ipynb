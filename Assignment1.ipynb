{
 "cells": [
  {
   "cell_type": "markdown",
   "id": "7864a34a",
   "metadata": {},
   "source": [
    "Sol - 1. Python was created by Guido van Rossum, and first released on February 20, 1991."
   ]
  },
  {
   "cell_type": "markdown",
   "id": "fa326a46",
   "metadata": {},
   "source": [
    "Sol - 2. Python is a multi-paradigm programming language. Object-oriented programming and structured programming are fully supported."
   ]
  },
  {
   "cell_type": "markdown",
   "id": "661e0b32",
   "metadata": {},
   "source": [
    "Sol - 3. Yes, Python is a case-sensitive language, i.e., it treats uppercase and lowercase characters differently. This applies to identifiers too. You must avoid using the same name with different cases while naming identifiers."
   ]
  },
  {
   "cell_type": "markdown",
   "id": "7a0a8f74",
   "metadata": {},
   "source": [
    "Sol - 4. The extensions for Python files are - . py, . pyi."
   ]
  },
  {
   "cell_type": "markdown",
   "id": "aee85e2a",
   "metadata": {},
   "source": [
    "Sol - 5. Python is both compiled as well as an interpreted language. This means when we run a python code, it is first compiled and then interpreted line by line. The compilation part is mostly hidden from the user. While running the code, Python generates a byte code internally, this byte code is then converted using a python virtual machine (p.v.m) to generate the output."
   ]
  },
  {
   "cell_type": "markdown",
   "id": "6d7b1ef0",
   "metadata": {},
   "source": [
    "Sol - 6. A Python program is constructed from code blocks. A block is a piece of Python program text that is executed as a unit. The following are blocks: a module, a function body, and a class definition."
   ]
  },
  {
   "cell_type": "markdown",
   "id": "73bb6e28",
   "metadata": {},
   "source": [
    "Sol - 7. In Python, we use the hash symbol # to write a single-line comment."
   ]
  },
  {
   "cell_type": "markdown",
   "id": "db0ecb37",
   "metadata": {},
   "source": [
    "Sol - 8. You can chcek your python version by -\n",
    "          import sys\n",
    "          sys.version"
   ]
  },
  {
   "cell_type": "markdown",
   "id": "cfafc1be",
   "metadata": {},
   "source": [
    "Sol - 9. Python supports to make anonymous functions which are not bound to a name(@ runtime). It uses a construct called \"lambda\" "
   ]
  },
  {
   "cell_type": "markdown",
   "id": "b7d90dee",
   "metadata": {},
   "source": [
    "Sol - 10. The standard package manager for Python is pip . It allows you to install and manage packages that aren't part of the Python standard library."
   ]
  },
  {
   "cell_type": "markdown",
   "id": "20485d22",
   "metadata": {},
   "source": [
    "Sol - 11. Some inbuilt functions in python - print() type() int() input() min() max() round()"
   ]
  },
  {
   "cell_type": "markdown",
   "id": "8b8e9bed",
   "metadata": {},
   "source": [
    "Sol - 12. An identifier can have a maximum length of 79 characters in Python."
   ]
  },
  {
   "cell_type": "markdown",
   "id": "c3892825",
   "metadata": {},
   "source": [
    "Sol - 13. Python is used for - Data science\n",
    "Scientific and mathematical computing\n",
    "Web development\n",
    "Finance and trading\n",
    "System automation and administration\n",
    "Computer graphics\n",
    "Basic game development\n",
    "Security and penetration testing"
   ]
  },
  {
   "cell_type": "markdown",
   "id": "0ddb4d00",
   "metadata": {},
   "source": [
    "Sol - 14. Memory management in Python involves a private heap containing all Python objects and data structures. The management of this private heap is ensured internally by the Python memory manager. "
   ]
  },
  {
   "cell_type": "markdown",
   "id": "4961a686",
   "metadata": {},
   "source": [
    "Sol - 15. First install python then\n",
    "\n",
    "Right-clicking This PC and going to Properties.\n",
    "\n",
    "Clicking on the Advanced system settings in the menu on the left.\n",
    "\n",
    "Clicking on the Environment Variables button o​n the bottom right.\n",
    "\n",
    "In the System variables section, selecting the Path variable and clicking on Edit. The next screen will show all the directories that are currently a part of the PATH variable.\n",
    "\n",
    "Clicking on New and entering Python’s install directory."
   ]
  },
  {
   "cell_type": "markdown",
   "id": "bcbcf5b1",
   "metadata": {},
   "source": [
    "Sol - 16. Yes, indentation is required in python."
   ]
  },
  {
   "cell_type": "code",
   "execution_count": null,
   "id": "5141f2dd",
   "metadata": {},
   "outputs": [],
   "source": []
  }
 ],
 "metadata": {
  "kernelspec": {
   "display_name": "Python 3 (ipykernel)",
   "language": "python",
   "name": "python3"
  },
  "language_info": {
   "codemirror_mode": {
    "name": "ipython",
    "version": 3
   },
   "file_extension": ".py",
   "mimetype": "text/x-python",
   "name": "python",
   "nbconvert_exporter": "python",
   "pygments_lexer": "ipython3",
   "version": "3.9.13"
  }
 },
 "nbformat": 4,
 "nbformat_minor": 5
}
