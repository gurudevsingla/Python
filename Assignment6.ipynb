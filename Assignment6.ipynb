{
 "cells": [
  {
   "cell_type": "code",
   "execution_count": 8,
   "id": "03bdef54",
   "metadata": {},
   "outputs": [
    {
     "name": "stdout",
     "output_type": "stream",
     "text": [
      "This is student info : Gurudev  2nd year  65\n"
     ]
    },
    {
     "data": {
      "text/plain": [
       "'A class is a user-defined blueprint or prototype from which objects are created. Classes provide a means of bundling data and functionality together. \\nCreating a new class creates a new type of object, allowing new instances of that type to be made. \\nEach class instance can have attributes attached to it for maintaining its state.Class instances can also have methods (defined by their class) for modifying their state\\nAn Object is an instance of a Class. A class is like a blueprint while an instance is a copy of the class with actual values. \\nIt’s not an idea anymore, it’s an actual dog, like a dog of breed pug who’s seven years old.\\nYou can have many dogs to create many different instances, but without the class as a guide, you would be lost, not knowing what information is required.'"
      ]
     },
     "execution_count": 8,
     "metadata": {},
     "output_type": "execute_result"
    }
   ],
   "source": [
    "#Que 1:\n",
    "\"\"\"Explain Class and Object with respect to Object-Oriented Programming. Give a suitable example.\"\"\"\n",
    "class student:\n",
    "    def __init__(self,name,standard,rollno):\n",
    "        self.name=name\n",
    "        self.standard=standard\n",
    "        self.rollno=rollno\n",
    "    def __str__(self):\n",
    "        return \"This is student info : \"+self.name+\"  \"+str(self.standard)+\"  \"+str(self.rollno)\n",
    "a=student(\"Gurudev\",\"2nd year\",65)\n",
    "print(a)\n",
    "\n",
    "\"\"\"A class is a user-defined blueprint or prototype from which objects are created. Classes provide a means of bundling data and functionality together. \n",
    "Creating a new class creates a new type of object, allowing new instances of that type to be made. \n",
    "Each class instance can have attributes attached to it for maintaining its state.Class instances can also have methods (defined by their class) for modifying their state\n",
    "An Object is an instance of a Class. A class is like a blueprint while an instance is a copy of the class with actual values. \n",
    "It’s not an idea anymore, it’s an actual dog, like a dog of breed pug who’s seven years old.\n",
    "You can have many dogs to create many different instances, but without the class as a guide, you would be lost, not knowing what information is required.\"\"\""
   ]
  },
  {
   "cell_type": "code",
   "execution_count": 9,
   "id": "6e18b631",
   "metadata": {},
   "outputs": [
    {
     "data": {
      "text/plain": [
       "'These 4 pillars of OOP are Abstraction, Encapsulation, Inheritance, and Polymorphism.'"
      ]
     },
     "execution_count": 9,
     "metadata": {},
     "output_type": "execute_result"
    }
   ],
   "source": [
    "#Que 2:\n",
    "\"\"\"Name the four pillars of OOPs.\"\"\"\n",
    "\n",
    "\"\"\"These 4 pillars of OOP are Abstraction, Encapsulation, Inheritance, and Polymorphism.\"\"\""
   ]
  },
  {
   "cell_type": "code",
   "execution_count": 12,
   "id": "f9505780",
   "metadata": {},
   "outputs": [
    {
     "name": "stdout",
     "output_type": "stream",
     "text": [
      "This is student info : Gurudev  2nd year  65\n"
     ]
    },
    {
     "data": {
      "text/plain": [
       "'It is an inbuilt method basically used for initialisation of variables in class'"
      ]
     },
     "execution_count": 12,
     "metadata": {},
     "output_type": "execute_result"
    }
   ],
   "source": [
    "#Que 3:\n",
    "\"\"\"Explain why the __init__() function is used. Give a suitable example.\"\"\"\n",
    "class student:\n",
    "    def __init__(self,name,standard,rollno):\n",
    "        self.name=name\n",
    "        self.standard=standard\n",
    "        self.rollno=rollno\n",
    "    def __str__(self):\n",
    "        return \"This is student info : \"+self.name+\"  \"+str(self.standard)+\"  \"+str(self.rollno)\n",
    "a=student(\"Gurudev\",\"2nd year\",65)\n",
    "print(a)\n",
    "\"\"\"It is an inbuilt method basically used for initialisation of variables in class\"\"\""
   ]
  },
  {
   "cell_type": "code",
   "execution_count": 14,
   "id": "5f7217f9",
   "metadata": {},
   "outputs": [
    {
     "data": {
      "text/plain": [
       "'self is basically used to represent an object of a class we can use any name at the place of self'"
      ]
     },
     "execution_count": 14,
     "metadata": {},
     "output_type": "execute_result"
    }
   ],
   "source": [
    "#que 4:\n",
    "\"\"\"Why self is used in OOPs?\"\"\"\n",
    "\n",
    "\"\"\"self is basically used to represent an object of a class we can use any name at the place of self\"\"\""
   ]
  },
  {
   "cell_type": "code",
   "execution_count": 4,
   "id": "9016abd9",
   "metadata": {},
   "outputs": [
    {
     "name": "stdout",
     "output_type": "stream",
     "text": [
      "Gurudev Usha Subhash\n",
      "Gurudev Usha Subhash\n",
      "Gurudev Telu Subhash\n",
      "Gurudev Subhash Girl Subhash\n"
     ]
    },
    {
     "data": {
      "text/plain": [
       "'Inheritance is defined as the mechanism of inheriting the properties of the base class to the child class'"
      ]
     },
     "execution_count": 4,
     "metadata": {},
     "output_type": "execute_result"
    }
   ],
   "source": [
    "#Que 5:\n",
    "\"\"\"What is inheritance? Give an example for each type of inheritance.\"\"\"\n",
    "\n",
    "#Single inheritance :\n",
    "class Parent:\n",
    "    def __init__(self,mothername,fathername):\n",
    "        self.mothername=mothername\n",
    "        self.fathername=fathername\n",
    "class Child(Parent):\n",
    "    def __init__(self,childname,mothername,fathername):\n",
    "        super().__init__(mothername,fathername)\n",
    "        self.childname=childname\n",
    "obj=Child(\"Gurudev\",\"Usha\",\"Subhash\")\n",
    "print(obj.childname,obj.mothername,obj.fathername)\n",
    "\n",
    "#Multiple inheritance :\n",
    "class Mother:\n",
    "    def __init__(self,mothername):\n",
    "        self.mothername=mothername\n",
    "class Father:\n",
    "    def __init__(self,fathername):\n",
    "        self.fathername=fathername\n",
    "class Child(Mother,Father):\n",
    "    def __init__(self,childname,mothername,fathername):\n",
    "        Mother.__init__(self,mothername)\n",
    "        Father.__init__(self,fathername)\n",
    "        self.childname=childname\n",
    "obj=Child(\"Gurudev\",\"Usha\",\"Subhash\")\n",
    "print(obj.childname,obj.mothername,obj.fathername)\n",
    "\n",
    "#Multilevel inheritance :\n",
    "class Grandfather:\n",
    "    def __init__(self,grandfathername):\n",
    "        self.grandfathername=grandfathername\n",
    "class Father:\n",
    "    def __init__(self,fathername):\n",
    "        self.fathername=fathername\n",
    "class Son(Grandfather,Father):\n",
    "    def __init__(self,sonname,grandfathername,fathername):\n",
    "        Grandfather.__init__(self,grandfathername)\n",
    "        Father.__init__(self,fathername)\n",
    "        self.sonname=sonname\n",
    "obj=Son(\"Gurudev\",\"Telu\",\"Subhash\")\n",
    "print(obj.sonname,obj.grandfathername,obj.fathername)\n",
    "\n",
    "#Hierarchical inheritance :\n",
    "class Father:\n",
    "    def __init__(self,fathername):\n",
    "        self.fathername=fathername\n",
    "class Son(Father):\n",
    "    def __init__(self,sonname,fathername):\n",
    "        Father.__init__(self,fathername)\n",
    "        self.sonname=sonname\n",
    "class Daughter(Father):\n",
    "    def __init__(self,daughtername,fathername):\n",
    "        Father.__init__(self,fathername)\n",
    "        self.daughtername=daughtername\n",
    "obj=Son(\"Gurudev\",\"Subhash\")\n",
    "obj1=Daughter(\"Girl\",\"Subhash\")\n",
    "print(obj.sonname,obj.fathername,obj1.daughtername,obj1.fathername)\n",
    "\"\"\"Inheritance is defined as the mechanism of inheriting the properties of the base class to the child class\"\"\""
   ]
  },
  {
   "cell_type": "code",
   "execution_count": null,
   "id": "4a7072b5",
   "metadata": {},
   "outputs": [],
   "source": []
  }
 ],
 "metadata": {
  "kernelspec": {
   "display_name": "Python 3 (ipykernel)",
   "language": "python",
   "name": "python3"
  },
  "language_info": {
   "codemirror_mode": {
    "name": "ipython",
    "version": 3
   },
   "file_extension": ".py",
   "mimetype": "text/x-python",
   "name": "python",
   "nbconvert_exporter": "python",
   "pygments_lexer": "ipython3",
   "version": "3.9.13"
  }
 },
 "nbformat": 4,
 "nbformat_minor": 5
}
