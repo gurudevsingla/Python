{
 "cells": [
  {
   "cell_type": "code",
   "execution_count": 20,
   "id": "cdcf6fef",
   "metadata": {},
   "outputs": [
    {
     "name": "stdout",
     "output_type": "stream",
     "text": [
      "[1, 2, 3, 4, 44, 55, 66, True, False, 34, 56, 78, 89, 34, 1, 2, 3, 1, 34, 'key2', 55, 67, 78, 89, 4, 45, 22, 61, 34, 56, 'data science', 'Machine Learning']\n",
      "Product is : 4134711838987085478833841242112000\n"
     ]
    }
   ],
   "source": [
    "#Que 1 :\n",
    "\"\"\"Create a function which will take a list as an argument and return the product of all the numbers \n",
    "after creating a flat list.\n",
    "Use the below-given list as an argument for your function.\n",
    "\n",
    "list1 = [1,2,3,4, [44,55,66, True], False, (34,56,78,89,34), {1,2,3,3,2,1}, {1:34, \"key2\": [55, 67, 78, 89], 4: (45, \n",
    "22, 61, 34)}, [56, 'data science'], 'Machine Learning']\n",
    "\n",
    "Note: you must extract numeric keys and values of the dictionary also.\"\"\"\n",
    "\n",
    "def flat_list(l):\n",
    "    lst=[]\n",
    "    for i in l:\n",
    "        if(type(i)==tuple or type(i)==list or type(i)==set):\n",
    "            for j in i:\n",
    "                    lst.append(j)\n",
    "        elif(type(i)==dict):\n",
    "            for j in i:\n",
    "                    lst.append(j)\n",
    "                    if(type(i[j])==tuple or type(i[j])==list or type(i[j])==set):\n",
    "                        for k in i[j]:\n",
    "                            lst.append(k)\n",
    "                    else:\n",
    "                        lst.append(i[j])\n",
    "        else:\n",
    "            lst.append(i)\n",
    "    return lst\n",
    "\n",
    "lst=flat_list(l=[1,2,3,4, [44,55,66, True], False, (34,56,78,89,34), {1,2,3,3,2,1}, {1:34, \"key2\": [55, 67, 78, 89], 4: (45, 22, 61, 34)},\n",
    "[56, 'data science'], 'Machine Learning'])\n",
    "print(lst)\n",
    "product=1\n",
    "for i in lst:\n",
    "    if(type(i)==int or type(i)==float):\n",
    "        product*=i\n",
    "print(\"Product is :\",product)"
   ]
  },
  {
   "cell_type": "code",
   "execution_count": 30,
   "id": "652c56c3",
   "metadata": {},
   "outputs": [
    {
     "name": "stdout",
     "output_type": "stream",
     "text": [
      "r$dzmg$gl$yvxlnv$z$wzgz$hxrvmgrhg\n"
     ]
    }
   ],
   "source": [
    "#Que 2 :\n",
    "\"\"\"Write a python program for encrypting a message sent to you by your friend. The logic of encryption \n",
    "should be such that, for a the output should be z. For b, the output should be y. For c, the output should \n",
    "be x respectively. Also, the whitespace should be replaced with a dollar sign. Keep the punctuation \n",
    "marks unchanged.\n",
    "\n",
    "Input Sentence: I want to become a Data Scientist.\n",
    "\n",
    "Encrypt the above input sentence using the program you just created.\n",
    "\n",
    "Note: Convert the given input sentence into lowercase before encrypting. The final output should be \n",
    "lowercase.\"\"\"\n",
    "\n",
    "s=\"I want to become a Data Scientist\"\n",
    "s=s.lower()\n",
    "string=\"\"\n",
    "for i in s:\n",
    "    if 96<ord(i)<=110:\n",
    "        j=chr(ord('z')-(ord(i)-ord('a')))\n",
    "        string=string+j\n",
    "    elif 110<ord(i)<123:\n",
    "        j=chr(ord('a')+(ord('z')-ord(i)))\n",
    "        string=string+j\n",
    "    elif i==\" \":\n",
    "        string=string+\"$\"\n",
    "    else:\n",
    "        string=string+i\n",
    "s=string\n",
    "print(s)"
   ]
  },
  {
   "cell_type": "code",
   "execution_count": 31,
   "id": "0c3b17c7",
   "metadata": {},
   "outputs": [
    {
     "name": "stdout",
     "output_type": "stream",
     "text": [
      "Enter your message: \n",
      "i wanna be a da;ta scienti98st\n",
      "r$dzmmz$yv$z$wz;gz$hxrvmgr98hg\n"
     ]
    }
   ],
   "source": [
    "#Que 2 : \n",
    "def encryption(message):\n",
    "    d={\" \":\"$\",\"a\":\"z\",\"b\":\"y\",\"c\":\"x\",\"d\":\"w\",\"e\":\"v\",\"f\":\"u\",\"g\":\"t\",\"h\":\"s\",\"i\":\"r\",\"j\":\"q\",\n",
    "        \"k\":\"p\",\"l\":\"o\",\"m\":\"n\",\"n\":\"m\",\"o\":\"l\",\"p\":\"k\",\"q\":\"j\",\"r\":\"i\",\"s\":\"h\",\"t\":\"g\",\"u\":\"f\",\n",
    "        \"v\":\"e\",\"w\":\"d\",\"x\":\"c\",\"y\":\"b\",\"z\":\"a\"}\n",
    "    new=[]\n",
    "    for element in message :\n",
    "        flag=0\n",
    "        for key,value in d.items():\n",
    "            if element == key:\n",
    "                new.append(value)\n",
    "                flag=1\n",
    "        if flag==0:\n",
    "            new.append(element)\n",
    "    result=''.join(new)\n",
    "    print(result)\n",
    "\n",
    "s=input(\"Enter your message: \\n\")\n",
    "encryption(s.lower())"
   ]
  },
  {
   "cell_type": "code",
   "execution_count": null,
   "id": "02dff71f",
   "metadata": {},
   "outputs": [],
   "source": []
  }
 ],
 "metadata": {
  "kernelspec": {
   "display_name": "Python 3 (ipykernel)",
   "language": "python",
   "name": "python3"
  },
  "language_info": {
   "codemirror_mode": {
    "name": "ipython",
    "version": 3
   },
   "file_extension": ".py",
   "mimetype": "text/x-python",
   "name": "python",
   "nbconvert_exporter": "python",
   "pygments_lexer": "ipython3",
   "version": "3.9.13"
  }
 },
 "nbformat": 4,
 "nbformat_minor": 5
}
